{
 "cells": [
  {
   "cell_type": "markdown",
   "id": "5283cbd9",
   "metadata": {
    "tags": []
   },
   "source": [
    "# Introduction to Python Programming\n",
    "\n",
    "Welcome to this beginner-friendly tutorial on Python programming! Python is a powerful and versatile programming language that is widely used in various fields, including web development, data science, artificial intelligence, and more. In this tutorial, we'll cover the basics of Python and equip you with the essential knowledge to start your journey as a Python programmer.\n",
    "\n",
    "## Why Learn Python?\n",
    "\n",
    "Python is an excellent choice for beginners due to its simple and readable syntax, making it easy to understand and write code. It emphasizes code readability, which means developers can express their ideas with fewer lines of code compared to other programming languages. Additionally, Python has a vast community and extensive libraries that offer a wide range of functionalities, making it a go-to language for many developers.\n",
    "\n",
    "## What Will You Learn?\n",
    "\n",
    "In this tutorial, we'll cover the following fundamental topics of Python programming:\n",
    "\n",
    "1. **Variables and Data Types**: Understand how to declare variables and work with different data types, such as numbers, strings, lists, tuples, and dictionaries.\n",
    "\n",
    "2. **Control Flow**: Learn about conditional statements (if-else), loops (for and while), and how to control the flow of your program.\n",
    "\n",
    "3. **Functions**: Explore how to define and use functions to modularize your code and make it more organized.\n",
    "\n",
    "4. **Input and Output**: Learn how to interact with users by taking input and displaying output.\n",
    "\n",
    "5. **File Handling**: Discover how to read and write files using Python.\n",
    "\n",
    "6. **Exception Handling**: Understand how to handle errors and exceptions in your code gracefully.\n",
    "\n",
    "By the end of this tutorial, you'll have a solid foundation in Python programming and be ready to tackle more advanced topics or explore specific areas of interest.\n",
    "\n",
    "## Prerequisites\n",
    "\n",
    "This tutorial assumes you have no prior experience with Python or programming. However, a basic understanding of programming concepts will be helpful. All you need is a computer with Python installed, and you're good to go!\n",
    "\n",
    "Let's get started on this exciting journey of learning Python programming!\n",
    "\n"
   ]
  },
  {
   "cell_type": "markdown",
   "id": "0c81a47e-65ec-4a29-9c3d-c95675de24c2",
   "metadata": {},
   "source": [
    "## Table of Contents\n",
    "\n",
    "- [Data_Types_Structures](#Data_Types_Structures) \n",
    "  - [Variables](#Variables)\n",
    "    - [Declaring Variables](#Declaring-Variables)\n",
    "    - [Variables Types](#Variables-Types)\n",
    "  - [Data_Structures](#Data_Structures)\n",
    "    - [Lists](#Lists)\n",
    "    - [Dictionaries](#Dictionaries)\n",
    "    - [Tuples](#Tuples)\n",
    "    - [Sets](#Sets)\n",
    "    - [NumPy Arrays](#NumPy-Arrays)\n",
    "    - [Pandas DataFrames](#Pandas-DataFrames)\n",
    "    - [Tensors](#Tensors)\n",
    "- [FLow_Control_Statements](#FLow_Control_Statements)\n",
    "  - [\"for\" loop](#\"for\"-loop)\n",
    "  - [\"while\" loop](#\"while\"-loop)\n",
    "  - [Conditional Judgment Statement](#Conditional-Judgment-Statement)\n",
    "  - [Control Statements: break and continue](#Control-Statements:-break-and-continue)\n",
    "- [Operations: Methods, Functions](#Operations_Methods_Functions)\n",
    "  - [Methods](#Methods)\n",
    "  - [Define function](#Define_function)\n",
    "- [Class](#Class)"
   ]
  },
  {
   "cell_type": "markdown",
   "id": "9034d203",
   "metadata": {
    "tags": []
   },
   "source": [
    "## Data_Types_Structures"
   ]
  },
  {
   "cell_type": "markdown",
   "id": "d44d0108",
   "metadata": {
    "tags": []
   },
   "source": [
    "### Variables\n",
    "\n",
    "In Python, a variable is a name that refers to a value stored in the computer's memory. Variables are used to store data that can be later accessed and manipulated in the program. Python is a dynamically typed language, which means you don't need to declare the data type of a variable explicitly; Python will determine the type based on the assigned value.\n",
    "\n",
    "#### Declaring Variables\n",
    "\n",
    "To create a variable in Python, you simply need to assign a value to a name using the assignment operator `=`. Here's the general syntax:\n",
    "\n",
    "```python\n",
    "variable_name = value\n",
    "```\n",
    "\n",
    "#### Variables Types\n",
    "\n",
    "As mentioned earlier, Python is dynamically typed, so you can assign different types of values to the same variable. Some common variable types in Python are:\n",
    "\n",
    "- Integer: Whole numbers, e.g., age = 25\n",
    "- Float: Decimal numbers, e.g., price = 12.99\n",
    "- String: Textual data, e.g., name = \"John\"\n",
    "- Boolean: Represents True or False, e.g., is_student = True"
   ]
  },
  {
   "cell_type": "code",
   "execution_count": 1,
   "id": "7b5dbf37",
   "metadata": {},
   "outputs": [
    {
     "name": "stdout",
     "output_type": "stream",
     "text": [
      "1\n",
      "<class 'int'>\n"
     ]
    }
   ],
   "source": [
    "# int\n",
    "var = 1\n",
    "print(var)\n",
    "print(type(var))"
   ]
  },
  {
   "cell_type": "code",
   "execution_count": 2,
   "id": "0f0f9c43",
   "metadata": {},
   "outputs": [
    {
     "name": "stdout",
     "output_type": "stream",
     "text": [
      "1.0\n",
      "<class 'float'>\n"
     ]
    }
   ],
   "source": [
    "# float\n",
    "var = 1.\n",
    "print(var)\n",
    "print(type(var))"
   ]
  },
  {
   "cell_type": "code",
   "execution_count": 3,
   "id": "7971e75f",
   "metadata": {},
   "outputs": [
    {
     "name": "stdout",
     "output_type": "stream",
     "text": [
      "1\n",
      "<class 'str'>\n"
     ]
    }
   ],
   "source": [
    "# string\n",
    "var = '1'\n",
    "print(var)\n",
    "print(type(var))"
   ]
  },
  {
   "cell_type": "code",
   "execution_count": 4,
   "id": "b1495dce",
   "metadata": {},
   "outputs": [
    {
     "name": "stdout",
     "output_type": "stream",
     "text": [
      "True\n",
      "<class 'bool'>\n"
     ]
    }
   ],
   "source": [
    "# boolean\n",
    "var = bool(1)\n",
    "print(var)\n",
    "print(type(var))"
   ]
  },
  {
   "cell_type": "markdown",
   "id": "0b986593",
   "metadata": {
    "tags": []
   },
   "source": [
    "### Data_Structures\n",
    "\n",
    "Data structures are fundamental tools in computer programming that allow you to organize and store data in a way that facilitates efficient operations. Python provides several built-in data structures that cater to different needs and scenarios. In this introduction, we'll explore some of the most commonly used data structures in Python.\n"
   ]
  },
  {
   "cell_type": "markdown",
   "id": "cf520595",
   "metadata": {
    "tags": []
   },
   "source": [
    "#### Lists\n",
    "\n",
    "A list is a versatile and ordered collection of elements, represented by square brackets `[ ]`. Lists can store different types of data, such as numbers, strings, and even other lists. You can add, remove, or modify elements in a list easily.\n",
    "\n",
    "```Python\n",
    "numbers = [1, 2, 3, 4, 5]\n",
    "fruits = [\"apple\", \"banana\", \"orange\"]\n",
    "mixed_list = [1, \"hello\", True, 3.14]\n",
    "```"
   ]
  },
  {
   "cell_type": "code",
   "execution_count": 5,
   "id": "b77123fe",
   "metadata": {},
   "outputs": [
    {
     "name": "stdout",
     "output_type": "stream",
     "text": [
      "[1, 2.0, '3']\n",
      "<class 'list'>\n",
      "\n",
      "\n",
      "The list after adding an element is:\n",
      "[1, 2.0, '3', 10]\n",
      "\n",
      "\n",
      "The list after extending itself is:\n",
      "[1, 2.0, '3', 10, 1, 2.0, '3', 10]\n"
     ]
    }
   ],
   "source": [
    "# list\n",
    "data_struct = [1, 2., '3']\n",
    "print(data_struct)\n",
    "print(type(data_struct))\n",
    "print('\\n')\n",
    "\n",
    "# add an element to list\n",
    "data_struct.append(10)\n",
    "print('The list after adding an element is:')\n",
    "print(data_struct)\n",
    "print('\\n')\n",
    "\n",
    "# extend list\n",
    "print('The list after extending itself is:')\n",
    "data_struct.extend(data_struct)\n",
    "print(data_struct)"
   ]
  },
  {
   "cell_type": "markdown",
   "id": "89e3bc58",
   "metadata": {
    "tags": []
   },
   "source": [
    "#### Dictionaries\n",
    "\n",
    "Dictionaries are unordered collections that store data in key-value pairs, represented by curly braces { }. Each value in a dictionary is associated with a unique key, which allows for fast and efficient data retrieval.\n",
    "\n",
    "```python\n",
    "person = {\"name\": \"John\", \"age\": 30, \"city\": \"New York\"}\n",
    "book = {\"title\": \"Python Programming\", \"author\": \"Jane Doe\", \"year\": 2022}\n",
    "```"
   ]
  },
  {
   "cell_type": "code",
   "execution_count": 6,
   "id": "ffbc224c",
   "metadata": {},
   "outputs": [
    {
     "name": "stdout",
     "output_type": "stream",
     "text": [
      "The dict is:\n",
      "{'integer': 1, 'string': '2', 'float_num': 3.0}\n",
      "\n",
      "\n",
      "The data type is:\n",
      "<class 'dict'>\n",
      "\n",
      "\n",
      "The dict after adding a list is:\n",
      "{'integer': 1, 'string': '2', 'float_num': 3.0, 'list': [1, 2, 3]}\n"
     ]
    }
   ],
   "source": [
    "# dict\n",
    "data_struct = {'integer':1, 'string':'2', 'float_num':3.}\n",
    "print('The dict is:')\n",
    "print(data_struct)\n",
    "print('\\n')\n",
    "print('The data type is:')\n",
    "print(type(data_struct))\n",
    "print('\\n')\n",
    "\n",
    "# add item to dict\n",
    "print('The dict after adding a list is:')\n",
    "data_struct['list'] = [1, 2, 3]\n",
    "print(data_struct)"
   ]
  },
  {
   "cell_type": "markdown",
   "id": "cffae98c",
   "metadata": {
    "tags": []
   },
   "source": [
    "#### Tuples\n",
    "\n",
    "Tuples are similar to lists but are immutable, meaning their elements **cannot be changed** after creation. Tuples are represented by parentheses ( ).\n",
    "\n",
    "```Python\n",
    "point = (10, 20)\n",
    "colors = (\"red\", \"green\", \"blue\")\n",
    "```"
   ]
  },
  {
   "cell_type": "code",
   "execution_count": 2,
   "id": "ea85abb7",
   "metadata": {},
   "outputs": [
    {
     "name": "stdout",
     "output_type": "stream",
     "text": [
      "(3.14159265359,)\n"
     ]
    }
   ],
   "source": [
    "# Representing RGB colors (Red, Green, Blue) in a tuple\n",
    "red_color = (255, 0, 0)\n",
    "green_color = (0, 255, 0)\n",
    "blue_color = (0, 0, 255)\n",
    "\n",
    "# Defining constants using tuples\n",
    "PI = (3.14159265359,)\n",
    "GRAVITY = (9.81,)\n",
    "\n",
    "print(PI)"
   ]
  },
  {
   "cell_type": "markdown",
   "id": "a015eacd",
   "metadata": {
    "tags": []
   },
   "source": [
    "#### Sets\n",
    "\n",
    "Sets are unordered collections of unique elements, represented by curly braces { }. Sets **do not allow duplicate values**, making them useful for eliminating duplicates from a list.\n",
    "\n",
    "```Python\n",
    "numbers_set = {1, 2, 3, 4, 5}\n",
    "letters_set = {\"a\", \"b\", \"c\"}\n",
    "```"
   ]
  },
  {
   "cell_type": "code",
   "execution_count": 5,
   "id": "aa8f00ff",
   "metadata": {},
   "outputs": [
    {
     "name": "stdout",
     "output_type": "stream",
     "text": [
      "unique number: {1, 2, 3, 4, 5}\n",
      "fruits_sets: {'orange', 'grape', 'banana', 'apple'}\n"
     ]
    }
   ],
   "source": [
    "# Creating a set of unique elements\n",
    "fruits = {\"apple\", \"banana\", \"orange\", \"apple\", \"grape\"}\n",
    "unique_fruits = set(fruits)\n",
    "\n",
    "# Creating a set of unique elements using {}\n",
    "numbers = {1, 2, 3, 3, 4, 4, 5, 5}\n",
    "\n",
    "\n",
    "print('unique number:',numbers)\n",
    "print('fruits_sets:',fruits)"
   ]
  },
  {
   "cell_type": "markdown",
   "id": "8f87948a",
   "metadata": {},
   "source": [
    "#### Installing the numpy package: \n"
   ]
  },
  {
   "cell_type": "markdown",
   "id": "7b8cfed8",
   "metadata": {},
   "source": [
    "The easiest way to install NumPy is to use the pip tool. You just need to run the following command line"
   ]
  },
  {
   "cell_type": "code",
   "execution_count": 1,
   "id": "7cb4920d",
   "metadata": {},
   "outputs": [
    {
     "name": "stdout",
     "output_type": "stream",
     "text": [
      "Looking in indexes: http://mirrors.aliyun.com/pypi/simple/\n",
      "Requirement already satisfied: numpy in d:\\anaconda\\envs\\wang2024\\lib\\site-packages (1.26.0)\n"
     ]
    }
   ],
   "source": [
    "!pip install numpy"
   ]
  },
  {
   "cell_type": "markdown",
   "id": "426ad391",
   "metadata": {
    "tags": []
   },
   "source": [
    "#### NumPy Arrays\n",
    "\n",
    "NumPy (Numerical Python) is a powerful library in Python for numerical computations. One of the key features of NumPy is the ability to work with arrays efficiently. A NumPy array is a multi-dimensional, homogeneous data structure that allows you to store and manipulate large amounts of data efficiently.\n",
    "\n",
    "\n",
    "NumPy arrays offer several advantages over Python lists:\n",
    "\n",
    "1. **Efficiency**: NumPy arrays are implemented in C and provide highly efficient numerical operations, making them faster than traditional Python lists, especially for large datasets.\n",
    "\n",
    "2. **Multi-dimensional Support**: NumPy arrays can have multiple dimensions, allowing you to represent complex data such as images, audio signals, and more.\n",
    "\n",
    "3. **Broadcasting**: NumPy arrays support broadcasting, which simplifies operations on arrays with different shapes, making code concise and readable.\n",
    "\n",
    "4. **Mathematical Functions**: NumPy provides a wide range of mathematical functions and operations that are optimized for arrays.\n",
    "\n",
    "5. **Interoperability**: NumPy arrays can interact seamlessly with other libraries in the scientific Python ecosystem, making it a core component of data analysis and scientific computing.\n",
    "\n",
    "##### Creating NumPy Arrays\n",
    "\n",
    "To use NumPy, you need to install it first (if you use Python with anaconda, the package has been ready and you don't have to do it). You can install it using pip:\n",
    "\n",
    "```Python\n",
    "pip install numpy\n",
    "```\n",
    "\n",
    "Once installed, you can import NumPy and create arrays as follows:\n",
    "\n",
    "```Python\n",
    "import numpy as np\n",
    "\n",
    "# Create a 1D array\n",
    "arr1d = np.array([1, 2, 3, 4, 5])\n",
    "\n",
    "# Create a 2D array\n",
    "arr2d = np.array([[1, 2, 3], [4, 5, 6], [7, 8, 9]])\n",
    "\n",
    "# Create an empty array\n",
    "empty_arr = np.empty((3, 3))\n",
    "\n",
    "# Create an array with all zeros\n",
    "zeros_arr = np.zeros((2, 4))\n",
    "\n",
    "# Create an array with all ones\n",
    "ones_arr = np.ones((3, 2))\n",
    "```"
   ]
  },
  {
   "cell_type": "code",
   "execution_count": 2,
   "id": "f3eb0830",
   "metadata": {},
   "outputs": [
    {
     "name": "stdout",
     "output_type": "stream",
     "text": [
      "The array is:\n",
      "[[1 2 3]\n",
      " [4 5 6]]\n",
      "\n",
      "\n",
      "The data type is:\n",
      "<class 'numpy.ndarray'>\n",
      "\n",
      "\n",
      "The shape of the array\n",
      "(2, 3)\n",
      "\n",
      "\n",
      "The transposed array is:\n",
      "[[1 4]\n",
      " [2 5]\n",
      " [3 6]]\n",
      "\n",
      "\n",
      "Matrix multiplication example result:\n",
      "[[14 32]\n",
      " [32 77]]\n",
      "\n",
      "\n",
      "Matrix multiplication example result:\n",
      "[[ 1  4  9]\n",
      " [16 25 36]]\n"
     ]
    }
   ],
   "source": [
    "# array\n",
    "import numpy as np\n",
    "arr1d = np.array([1, 2, 3, 4, 5])\n",
    "data_struct = np.array([[1, 2, 3], [4, 5, 6]])\n",
    "print('The array is:')\n",
    "print(data_struct)\n",
    "print('\\n')\n",
    "print('The data type is:')\n",
    "print(type(data_struct))\n",
    "print('\\n')\n",
    "\n",
    "# access the shape of array\n",
    "print('The shape of the array')\n",
    "print(data_struct.shape)\n",
    "print('\\n')\n",
    "\n",
    "# matrix transpose\n",
    "print('The transposed array is:')\n",
    "print(data_struct.T)\n",
    "print('\\n')\n",
    "\n",
    "# matrix multiplication\n",
    "print('Matrix multiplication example result:')\n",
    "print(data_struct @ data_struct.T)\n",
    "print('\\n')\n",
    "\n",
    "#element-wise product of arrays\n",
    "print('Matrix multiplication example result:')\n",
    "print(data_struct * data_struct)"
   ]
  },
  {
   "cell_type": "markdown",
   "id": "b4fb54e2",
   "metadata": {},
   "source": [
    "You can access elements in a NumPy array using indexing, just like in Python lists:"
   ]
  },
  {
   "cell_type": "code",
   "execution_count": 13,
   "id": "97047fdf",
   "metadata": {},
   "outputs": [
    {
     "name": "stdout",
     "output_type": "stream",
     "text": [
      "The first element in a 1D array: 1\n",
      "The element with row 2 and column 3 in a 2D array: 6\n"
     ]
    }
   ],
   "source": [
    "# Accessing elements in a 1D array\n",
    "print('The first element in a 1D array:',arr1d[0])  # Output: 1\n",
    "\n",
    "# Accessing elements in a 2D array\n",
    "print('The element with row 2 and column 3 in a 2D array:',data_struct[1, 2])  # Output: 6\n"
   ]
  },
  {
   "cell_type": "markdown",
   "id": "54edf3df",
   "metadata": {},
   "source": [
    "You can also use slicing to extract specific portions of the array:\n",
    "\n",
    "Slicing is a powerful technique in Python that allows you to extract specific portions of an array or sequence. In the context of arrays, slicing enables you to access a subset of elements based on their indices. This makes it easy to retrieve and work with specific segments of data efficiently.\n",
    "\n",
    "The syntax for slicing an array is as follows, and the item with **start** index is inclusive, whereas the item with **stop** index is exclusive (it should be noted that the array index **starts at 0**):\n",
    "\n",
    "```python\n",
    "array[start:stop:step]\n",
    "```\n",
    "\n",
    "Some code demo can be seen as follows:\n",
    "\n",
    "```Python\n",
    "numbers = [1, 2, 3, 4, 5, 6, 7, 8, 9, 10]\n",
    "\n",
    "# Slice elements from index 2 to index 5 (exclusive)\n",
    "slice1 = numbers[2:5]  # Output: [3, 4, 5]\n",
    "\n",
    "# Slice elements from index 0 to index 8 with a step of 2\n",
    "slice2 = numbers[0:8:2]  # Output: [1, 3, 5, 7]\n",
    "\n",
    "# Slice elements from the beginning to index 5 (exclusive)\n",
    "slice3 = numbers[:5]  # Output: [1, 2, 3, 4, 5]\n",
    "\n",
    "# Slice elements from index 5 to the end\n",
    "slice4 = numbers[5:]  # Output: [6, 7, 8, 9, 10]\n",
    "\n",
    "# Slice elements in reverse order\n",
    "slice5 = numbers[::-1]  # Output: [10, 9, 8, 7, 6, 5, 4, 3, 2, 1]\n",
    "```\n",
    "\n",
    "You can use negative indices for slicing as well. Negative indices count from the end of the array:\n",
    "\n",
    "```python\n",
    "numbers = [1, 2, 3, 4, 5, 6, 7, 8, 9, 10]\n",
    "\n",
    "# Slice elements from index -3 to the end\n",
    "slice6 = numbers[-3:]  # Output: [8, 9, 10]\n",
    "\n",
    "# Slice elements from index -5 to index -2 (exclusive)\n",
    "slice7 = numbers[-5:-2]  # Output: [6, 7, 8]\n",
    "```"
   ]
  },
  {
   "cell_type": "code",
   "execution_count": 18,
   "id": "dd8de534",
   "metadata": {},
   "outputs": [
    {
     "name": "stdout",
     "output_type": "stream",
     "text": [
      "The second item to the fifth item in a 1D array: [2 3 4]\n",
      "The first to the third in row, and the second to the last in column: \n",
      " [[2 3]\n",
      " [5 6]]\n"
     ]
    }
   ],
   "source": [
    "# Slicing a 1D array\n",
    "print('The second item to the fifth item in a 1D array:',arr1d[1:4])  # Output: [2, 3, 4]\n",
    "\n",
    "# Slicing a 2D array\n",
    "print('The first to the third in row, and the second to the last in column:','\\n',data_struct[:2, 1:])  # Output: [[2, 3], [5, 6]]"
   ]
  },
  {
   "cell_type": "markdown",
   "id": "ff204496",
   "metadata": {},
   "source": [
    "#### Installing pandas and ohter packages"
   ]
  },
  {
   "cell_type": "markdown",
   "id": "719ec54d",
   "metadata": {},
   "source": [
    "The easiest way to install pandas and ohter packages is to use the pip tool. You just need to run the following command line\n"
   ]
  },
  {
   "cell_type": "code",
   "execution_count": 3,
   "id": "e33efd6c",
   "metadata": {},
   "outputs": [
    {
     "name": "stdout",
     "output_type": "stream",
     "text": [
      "Looking in indexes: http://mirrors.aliyun.com/pypi/simple/\n",
      "Requirement already satisfied: pandas in d:\\anaconda\\envs\\wang2024\\lib\\site-packages (2.1.3)\n",
      "Requirement already satisfied: numpy<2,>=1.23.2 in d:\\anaconda\\envs\\wang2024\\lib\\site-packages (from pandas) (1.26.0)\n",
      "Requirement already satisfied: python-dateutil>=2.8.2 in d:\\anaconda\\envs\\wang2024\\lib\\site-packages (from pandas) (2.8.2)\n",
      "Requirement already satisfied: pytz>=2020.1 in d:\\anaconda\\envs\\wang2024\\lib\\site-packages (from pandas) (2023.3.post1)\n",
      "Requirement already satisfied: tzdata>=2022.1 in d:\\anaconda\\envs\\wang2024\\lib\\site-packages (from pandas) (2023.3)\n",
      "Requirement already satisfied: six>=1.5 in d:\\anaconda\\envs\\wang2024\\lib\\site-packages (from python-dateutil>=2.8.2->pandas) (1.16.0)\n",
      "Looking in indexes: http://mirrors.aliyun.com/pypi/simple/\n",
      "Requirement already satisfied: scikit-learn in d:\\anaconda\\envs\\wang2024\\lib\\site-packages (1.3.2)\n",
      "Requirement already satisfied: numpy<2.0,>=1.17.3 in d:\\anaconda\\envs\\wang2024\\lib\\site-packages (from scikit-learn) (1.26.0)\n",
      "Requirement already satisfied: scipy>=1.5.0 in d:\\anaconda\\envs\\wang2024\\lib\\site-packages (from scikit-learn) (1.11.4)\n",
      "Requirement already satisfied: joblib>=1.1.1 in d:\\anaconda\\envs\\wang2024\\lib\\site-packages (from scikit-learn) (1.3.2)\n",
      "Requirement already satisfied: threadpoolctl>=2.0.0 in d:\\anaconda\\envs\\wang2024\\lib\\site-packages (from scikit-learn) (3.2.0)\n"
     ]
    }
   ],
   "source": [
    "!pip install pandas\n",
    "!pip install scikit-learn"
   ]
  },
  {
   "cell_type": "markdown",
   "id": "24762256",
   "metadata": {
    "tags": []
   },
   "source": [
    "#### Pandas DataFrames\n",
    "\n",
    "DataFrames are a key data structure in Python's Pandas library, designed for handling and analyzing tabular data efficiently. A DataFrame is a 2-dimensional, labeled data structure, similar to a spreadsheet or SQL table, where data is arranged in rows and columns.\n",
    "\n",
    "\n",
    "DataFrames offer several advantages for data manipulation and analysis:\n",
    "\n",
    "1. **Tabular Representation**: DataFrames provide a tabular and organized way to represent data, making it easy to understand and work with structured datasets.\n",
    "\n",
    "2. **Data Cleaning and Transformation**: DataFrames enable you to clean, preprocess, and transform data effectively using powerful methods and functions.\n",
    "\n",
    "3. **Easy Indexing**: DataFrames support both row and column indexing, making it convenient to access and modify specific data points.\n",
    "\n",
    "4. **Alignment and Broadcasting**: DataFrames automatically align data during operations, and Pandas supports broadcasting, which simplifies computations on data with different shapes.\n",
    "\n",
    "5. **Integration with Other Libraries**: DataFrames seamlessly integrate with other Python libraries, making it a crucial tool for data analysis and manipulation.\n",
    "\n",
    "##### Creating DataFrames\n",
    "\n",
    "To use DataFrames, you need to install the Pandas library first (if you use Python with anaconda, the package has been ready and you don't have to do it). You can install it using pip:\n",
    "\n",
    "```Python\n",
    "pip install pandas\n",
    "```\n",
    "\n",
    "Once installed, you can import Pandas and create DataFrames as follows:\n",
    "\n",
    "```Python\n",
    "import pandas as pd\n",
    "\n",
    "# Create a DataFrame from a dictionary\n",
    "data = {'Name': ['John', 'Alice', 'Bob'],\n",
    "        'Age': [25, 30, 28],\n",
    "        'City': ['New York', 'San Francisco', 'Chicago']}\n",
    "\n",
    "df = pd.DataFrame(data)\n",
    "\n",
    "# Create a DataFrame from a CSV file\n",
    "df_from_csv = pd.read_csv('data.csv')\n",
    "```"
   ]
  },
  {
   "cell_type": "code",
   "execution_count": 3,
   "id": "b093df2b",
   "metadata": {},
   "outputs": [
    {
     "name": "stdout",
     "output_type": "stream",
     "text": [
      "The DataFrame is:\n",
      "      column1  column2  column3\n",
      "row1        1        2        3\n",
      "row2        4        5        6\n",
      "\n",
      "\n",
      "DataFrame:\n",
      "    Name  Age           City\n",
      "0   John   25       New York\n",
      "1  Alice   30  San Francisco\n",
      "2    Bob   28        Chicago\n",
      "\n",
      "Accessing columns:\n",
      "0     John\n",
      "1    Alice\n",
      "2      Bob\n",
      "Name: Name, dtype: object\n",
      "\n",
      "Modified DataFrame:\n",
      "    Name  Age  Gender\n",
      "0   John   25    Male\n",
      "1  Alice   30  Female\n",
      "2    Bob   28    Male\n",
      "\n",
      "Slicing rows:\n",
      "    Name  Age  Gender\n",
      "1  Alice   30  Female\n",
      "2    Bob   28    Male\n",
      "\n",
      "Young people:\n",
      "   Name  Age Gender\n",
      "0  John   25   Male\n",
      "2   Bob   28   Male\n"
     ]
    }
   ],
   "source": [
    "# DataFrame\n",
    "import pandas as pd\n",
    "array = np.array([[1, 2, 3], [4, 5, 6]])\n",
    "print('The DataFrame is:')\n",
    "data_struct = pd.DataFrame(array, index=['row1', 'row2'], columns=['column1', 'column2', 'column3'])\n",
    "print(data_struct)\n",
    "print('\\n')\n",
    "\n",
    "# Create a DataFrame from a dict\n",
    "data = {\n",
    "    'Name': ['John', 'Alice', 'Bob'],\n",
    "    'Age': [25, 30, 28],\n",
    "    'City': ['New York', 'San Francisco', 'Chicago']\n",
    "}\n",
    "\n",
    "df = pd.DataFrame(data)\n",
    "\n",
    "# Display the DataFrame\n",
    "print(\"DataFrame:\")\n",
    "print(df)\n",
    "print()\n",
    "\n",
    "# Accessing columns\n",
    "print(\"Accessing columns:\")\n",
    "print(df['Name'])\n",
    "print()\n",
    "\n",
    "# Adding a new column\n",
    "df['Gender'] = ['Male', 'Female', 'Male']\n",
    "\n",
    "# Dropping a column\n",
    "df.drop('City', axis=1, inplace=True)\n",
    "\n",
    "# Display the modified DataFrame\n",
    "print(\"Modified DataFrame:\")\n",
    "print(df)\n",
    "print()\n",
    "\n",
    "# Slicing rows\n",
    "print(\"Slicing rows:\")\n",
    "print(df[1:3])\n",
    "print()\n",
    "\n",
    "# Filtering rows based on conditions\n",
    "young_people = df[df['Age'] < 30]\n",
    "print(\"Young people:\")\n",
    "print(young_people)\n",
    "\n",
    "# detailed pandas quick tutorials can be found at\n",
    "# https://pandas.pydata.org/docs/user_guide/10min.html#min"
   ]
  },
  {
   "cell_type": "markdown",
   "id": "ae5e29e0",
   "metadata": {
    "tags": []
   },
   "source": [
    "#### Tensors\n",
    "\n",
    "Tensors are a fundamental data structure in deep learning and scientific computing. They are multi-dimensional arrays that enable efficient numerical computations and form the foundation for building and training deep learning models. PyTorch, a popular deep learning library, relies heavily on tensors for its operations.\n",
    "\n",
    "Tensors offer several advantages for numerical computations and deep learning:\n",
    "\n",
    "1. **Efficient Numerical Operations**: Tensors are optimized for numerical operations and provide fast computation, especially when working with large datasets.\n",
    "\n",
    "2. **GPU Acceleration**: PyTorch supports GPU acceleration, allowing for even faster tensor computations, essential for training large neural networks.\n",
    "\n",
    "3. **Automatic Differentiation**: PyTorch's `autograd` feature enables automatic differentiation, making it easy to compute gradients for training deep learning models.\n",
    "\n",
    "4. **Flexible Data Representation**: Tensors can represent data of varying dimensions, from scalars (0-dimensional tensors) to multi-dimensional arrays.\n",
    "\n",
    "5. **Easy Integration with Deep Learning**: PyTorch's tensor operations are designed to work seamlessly with neural network architectures.\n",
    "\n",
    "##### Creating Tensors\n",
    "\n",
    "To use tensors in Python, you need to install the PyTorch library first. You can install it using pip:\n",
    "\n",
    "```Python\n",
    "pip install torch\n",
    "```\n",
    "\n",
    "Once installed, you can import PyTorch and create tensors as follows:\n",
    "\n",
    "```python\n",
    "import torch\n",
    "\n",
    "# Create a 0-dimensional tensor (scalar)\n",
    "scalar_tensor = torch.tensor(3.14)\n",
    "\n",
    "# Create a 1-dimensional tensor (vector)\n",
    "vector_tensor = torch.tensor([1, 2, 3, 4, 5])\n",
    "\n",
    "# Create a 2-dimensional tensor (matrix)\n",
    "matrix_tensor = torch.tensor([[1, 2], [3, 4], [5, 6]])\n",
    "\n",
    "# Create a 3-dimensional tensor\n",
    "tensor_3d = torch.tensor([[[1, 2], [3, 4]], [[5, 6], [7, 8]]])\n",
    "```\n",
    "\n",
    "For those who are new to Python, we recommend starting with the basics of Python programming before diving into PyTorch tensors. Understanding Python fundamentals will lay a strong foundation for your future journey into deep learning. In this tutorial, we'll first cover the essentials of Python, including variables, data types, control flow, functions, and more. Once you feel comfortable with Python, we'll introduce you to the powerful world of PyTorch tensors, a key data structure in deep learning. Don't worry if tensors seem challenging at first; they will become clearer as you progress. Our goal is to help you build confidence in Python programming, preparing you for exciting adventures in the field of deep learning later on.\n"
   ]
  },
  {
   "cell_type": "code",
   "execution_count": 2,
   "id": "1d2195dc",
   "metadata": {},
   "outputs": [
    {
     "name": "stdout",
     "output_type": "stream",
     "text": [
      "The tensor is:\n",
      "tensor([[1, 2, 3],\n",
      "        [4, 5, 6]])\n"
     ]
    }
   ],
   "source": [
    "# tensor\n",
    "# you can skip this code frame at this stage\n",
    "import torch\n",
    "import numpy as np\n",
    "print('The tensor is:')\n",
    "array = np.array([[1, 2, 3], [4, 5, 6]])\n",
    "data_struct = torch.tensor(array)\n",
    "print(data_struct)\n",
    "#print('\\n')\n",
    "\n",
    "# detailed pytorch quick tutorials can be found at\n",
    "# https://pytorch.org/tutorials/"
   ]
  },
  {
   "cell_type": "markdown",
   "id": "bf145bea",
   "metadata": {},
   "source": [
    "## FLow_Control_Statements"
   ]
  },
  {
   "cell_type": "markdown",
   "id": "f45895e7",
   "metadata": {
    "tags": []
   },
   "source": [
    "### \"for\" loop\n",
    "\n",
    "A \"for loop\" is a fundamental control structure in Python that allows you to iterate over a sequence of elements, such as a list, tuple, string, or range, and perform certain actions for each element. For loops are powerful and versatile, making them essential for repetitive tasks and data processing.\n",
    "\n",
    "#### Basics For Loop Syntax\n",
    "\n",
    "The syntax for a for loop in Python is as follows:\n",
    "\n",
    "```python\n",
    "for element in sequence:\n",
    "    print(element)\n",
    "```\n",
    "\n",
    "```python\n",
    "# Example 1: Looping through a list\n",
    "fruits = [\"apple\", \"banana\", \"orange\", \"grape\"]\n",
    "\n",
    "for fruit in fruits:\n",
    "    print(fruit)\n",
    "\n",
    "#Output:\n",
    "# apple\n",
    "# banana\n",
    "# orange\n",
    "# grape\n",
    "\n",
    "# Example 2: Looping through a string\n",
    "message = \"Hello, World!\"\n",
    "\n",
    "for char in message:\n",
    "    print(char)\n",
    "\n",
    "# Output:\n",
    "# H\n",
    "# e\n",
    "# l\n",
    "# l\n",
    "# o\n",
    "# ,\n",
    "#  \n",
    "# W\n",
    "# o\n",
    "# r\n",
    "# l\n",
    "# d\n",
    "# !\n",
    "\n",
    "# Example 3: Looping through a range of numbers\n",
    "for num in range(1, 6):\n",
    "    print(num)\n",
    "\n",
    "# Output:\n",
    "# 1\n",
    "# 2\n",
    "# 3\n",
    "# 4\n",
    "# 5\n",
    "\n",
    "```"
   ]
  },
  {
   "cell_type": "code",
   "execution_count": 10,
   "id": "927956b1",
   "metadata": {},
   "outputs": [
    {
     "name": "stdout",
     "output_type": "stream",
     "text": [
      "0\n",
      "1\n",
      "2\n",
      "3\n",
      "4\n"
     ]
    }
   ],
   "source": [
    "max_num_iter = 5  # the maximum number of iteration\n",
    "\n",
    "# \"i\" is a temporary variable to use in each iteration\n",
    "# \"range\" is a build-in function to generate iterable values\n",
    "for i in range(max_num_iter):\n",
    "    print(i)\n",
    "# Note: the index number in Python starts from 0, not 1!\n"
   ]
  },
  {
   "cell_type": "code",
   "execution_count": 11,
   "id": "26cd412a",
   "metadata": {},
   "outputs": [
    {
     "name": "stdout",
     "output_type": "stream",
     "text": [
      "2\n",
      "3\n",
      "4\n",
      "5\n",
      "6\n"
     ]
    }
   ],
   "source": [
    "for i in range(2, 7):\n",
    "    print(i)\n",
    "# Note that the starting point of range(x, y)\n",
    "# is included but the ending point is not\n",
    "# (x is included but y is excluded)"
   ]
  },
  {
   "cell_type": "code",
   "execution_count": 12,
   "id": "237485a3",
   "metadata": {},
   "outputs": [
    {
     "name": "stdout",
     "output_type": "stream",
     "text": [
      "list before adding value is []\n",
      "list after adding value is [0, 1, 2, 3, 4]\n"
     ]
    }
   ],
   "source": [
    "# \"for\" loop and list\n",
    "test_list = []  # create an empty list\n",
    "print('list before adding value is', test_list)\n",
    "for i in range(5):\n",
    "    test_list.append(i)\n",
    "\n",
    "print('list after adding value is', test_list)"
   ]
  },
  {
   "cell_type": "markdown",
   "id": "631141af",
   "metadata": {},
   "source": [
    "### \"while\" loop\n",
    "\n",
    "A \"while loop\" is a fundamental control structure in Python that allows you to repeatedly execute a block of code as long as a certain condition is true. While loops are used when the number of iterations is not known beforehand and the loop continues until the condition becomes false.\n",
    "\n",
    "#### Basic While Loop Syntax\n",
    "\n",
    "The syntax for a while loop in Python is as follows:\n",
    "\n",
    "```python\n",
    "while condition:\n",
    "    # Code block to be executed while the condition is true\n",
    "```\n",
    "\n",
    "```python\n",
    "# Example: Printing numbers from 1 to 5 using a while loop\n",
    "num = 1\n",
    "\n",
    "while num <= 5:\n",
    "    print(num)\n",
    "    num += 1\n",
    "\n",
    "# Output:\n",
    "# 1\n",
    "# 2\n",
    "# 3\n",
    "# 4\n",
    "# 5\n",
    "\n",
    "```"
   ]
  },
  {
   "cell_type": "code",
   "execution_count": 13,
   "id": "e67d6185",
   "metadata": {},
   "outputs": [
    {
     "name": "stdout",
     "output_type": "stream",
     "text": [
      "0\n",
      "1\n",
      "2\n",
      "3\n",
      "4\n"
     ]
    }
   ],
   "source": [
    "# in \"while\" loop, an iterable variable must be pre-specified\n",
    "c = 0\n",
    "while c<5:\n",
    "    print(c)\n",
    "    c = c + 1\n",
    "\n",
    "# Personally, \"for\" loop is more used than \"while\" loop"
   ]
  },
  {
   "cell_type": "markdown",
   "id": "909a6b3d-2415-48fa-aeb6-3928369e5764",
   "metadata": {
    "tags": []
   },
   "source": [
    "### Conditional Judgment Statement\n",
    "\n",
    "In Python, the `if-else` statement is used to make decisions in your code based on certain conditions. It allows you to execute different blocks of code depending on whether a given condition is true or false.\n",
    "\n",
    "#### Basic Syntax:\n",
    "\n",
    "The basic syntax of the `if-else` statement is as follows:\n",
    "\n",
    "```python\n",
    "if condition:\n",
    "    # Code block to be executed if the condition is true\n",
    "else:\n",
    "    # Code block to be executed if the condition is false\n",
    "```\n",
    "\n",
    "- The `condition` is an expression that evaluates to either `True` or `False`.\n",
    "- If the `condition` is true, the code block under the `if` statement is executed.\n",
    "- If the `condition` is false, the code block under the `else` statement (if present) is executed.\n",
    "\n",
    "#### Nested `if-else`:\n",
    "\n",
    "You can also use nested if-else statements to handle more complex conditions. This means having an if statement inside another if or else block. This allows you to check multiple conditions sequentially. The demo is as follows:\n",
    "\n",
    "```python\n",
    "# Input marks from the user\n",
    "marks = int(input(\"Enter your marks: \"))\n",
    "\n",
    "# Check grade based on marks\n",
    "if marks >= 90:\n",
    "    print(\"Grade: A\")\n",
    "elif marks >= 80:\n",
    "    print(\"Grade: B\")\n",
    "elif marks >= 70:\n",
    "    print(\"Grade: C\")\n",
    "elif marks >= 60:\n",
    "    print(\"Grade: D\")\n",
    "else:\n",
    "    print(\"Grade: F\")\n",
    "```\n",
    "\n",
    "- In this example, we use the if-elif-else statement to determine the grade based on the input marks. Depending on the value of marks, the code will execute the corresponding block and print the associated grade."
   ]
  },
  {
   "cell_type": "code",
   "execution_count": 6,
   "id": "1b14a3f4-6652-42d4-b177-080cf88ea3a2",
   "metadata": {},
   "outputs": [
    {
     "name": "stdout",
     "output_type": "stream",
     "text": [
      "Enter a number:  1\n"
     ]
    },
    {
     "name": "stdout",
     "output_type": "stream",
     "text": [
      "The number is positive.\n"
     ]
    }
   ],
   "source": [
    "# Input number from the user\n",
    "num = int(input(\"Enter a number: \"))\n",
    "\n",
    "# Check if the number is positive or negative\n",
    "if num > 0:\n",
    "    print(\"The number is positive.\")\n",
    "else:\n",
    "    print(\"The number is negative.\")"
   ]
  },
  {
   "cell_type": "code",
   "execution_count": 7,
   "id": "a47d2a38-b87a-4a19-8a8f-9a6211f7fc63",
   "metadata": {},
   "outputs": [
    {
     "name": "stdout",
     "output_type": "stream",
     "text": [
      "Enter the month (1-12):  3\n"
     ]
    },
    {
     "name": "stdout",
     "output_type": "stream",
     "text": [
      "The season is: Spring\n"
     ]
    }
   ],
   "source": [
    "# Input month from the user\n",
    "month = int(input(\"Enter the month (1-12): \"))\n",
    "\n",
    "# Determine the season based on the month\n",
    "if month in [3, 4, 5]:\n",
    "    season = \"Spring\"\n",
    "elif month in [6, 7, 8]:\n",
    "    season = \"Summer\"\n",
    "elif month in [9, 10, 11]:\n",
    "    season = \"Autumn/Fall\"\n",
    "else:\n",
    "    season = \"Winter\"\n",
    "\n",
    "print(\"The season is:\", season)"
   ]
  },
  {
   "cell_type": "markdown",
   "id": "b880250d-00ae-482e-af92-c8f1471702fc",
   "metadata": {},
   "source": [
    "### Control Statements: break and continue\n",
    "\n",
    "You can use the **break** statement to exit a while loop prematurely and the **continue** statement to skip the rest of the current iteration and move to the next one\n",
    "\n",
    "```python\n",
    "# Example: Using break and continue in a while loop\n",
    "num = 1\n",
    "\n",
    "while num <= 10:\n",
    "    if num == 5:\n",
    "        break  # Exit the loop when num is 5\n",
    "    if num % 2 == 0:\n",
    "        num += 1\n",
    "        continue  # Skip even numbers and move to the next iteration\n",
    "    print(num)\n",
    "    num += 1\n",
    "\n",
    "# Output:\n",
    "# 1\n",
    "# 3\n",
    "# 7\n",
    "# 9\n",
    "\n",
    "```"
   ]
  },
  {
   "cell_type": "code",
   "execution_count": 4,
   "id": "895162d3-87fe-422d-8191-0c3f34603736",
   "metadata": {},
   "outputs": [
    {
     "name": "stdout",
     "output_type": "stream",
     "text": [
      "1\n",
      "2\n",
      "3\n",
      "4\n",
      "6\n",
      "7\n",
      "8\n",
      "9\n",
      "10\n"
     ]
    }
   ],
   "source": [
    "# Example: Skipping specific values using continue in a while loop\n",
    "num = 1\n",
    "\n",
    "while num <= 10:\n",
    "    if num == 5:\n",
    "        num += 1\n",
    "        continue  # Skip number 5 and move to the next iteration\n",
    "    print(num)\n",
    "    num += 1"
   ]
  },
  {
   "cell_type": "code",
   "execution_count": 5,
   "id": "1073f40c-3f8d-4981-a6f6-dfa5a75b6fc9",
   "metadata": {},
   "outputs": [
    {
     "name": "stdout",
     "output_type": "stream",
     "text": [
      "Found 6 at index 3.\n"
     ]
    }
   ],
   "source": [
    "# Example: Finding the first occurrence of a number using a while loop\n",
    "numbers = [2, 4, 7, 6, 8, 10]\n",
    "target = 6\n",
    "index = 0\n",
    "\n",
    "while index < len(numbers):\n",
    "    if numbers[index] == target:\n",
    "        print(f\"Found {target} at index {index}.\")\n",
    "        break\n",
    "    index += 1"
   ]
  },
  {
   "cell_type": "markdown",
   "id": "14b854fd",
   "metadata": {},
   "source": [
    "## Operations_Methods_Functions"
   ]
  },
  {
   "cell_type": "markdown",
   "id": "076b9a6b-7dc3-4f9a-bf07-02d8a937e15f",
   "metadata": {},
   "source": [
    "### Methods\n",
    "\n",
    "In Python, a method is a function that is associated with an object. It can be called on that object and can access the data within the object. Methods are defined within the class, and they perform specific actions or operations related to the object's state.\n",
    "\n",
    "Example Method: `split`\n",
    "\n",
    "```python\n",
    "# Define a sample string\n",
    "sentence = \"Hello, how are you today?\"\n",
    "\n",
    "# Use the split() method to split the string by whitespace\n",
    "words = sentence.split()\n",
    "\n",
    "# Print the result\n",
    "print(words)  # Output: ['Hello,', 'how', 'are', 'you', 'today?']\n",
    "```\n",
    "\n",
    "- In this example, the split() method is called on the sentence string, and it splits the string into a list of words based on the default separator, which is whitespace.\n",
    "- A method is associated with a specific object, meaning that methods that work for one object may not work for other objects.\n",
    "- There are many methods in Python, and you can call them to complete some tasks easily like the following examlples\n",
    "- You can also define method in a **class**, which will be introduced later."
   ]
  },
  {
   "cell_type": "code",
   "execution_count": 14,
   "id": "a13daceb",
   "metadata": {},
   "outputs": [
    {
     "name": "stdout",
     "output_type": "stream",
     "text": [
      "append is a method\n",
      "[1]\n"
     ]
    }
   ],
   "source": [
    "print('append is a method')\n",
    "test_list = []\n",
    "test_list.append(1)\n",
    "print(test_list)"
   ]
  },
  {
   "cell_type": "code",
   "execution_count": 15,
   "id": "6a742aec",
   "metadata": {},
   "outputs": [
    {
     "name": "stdout",
     "output_type": "stream",
     "text": [
      "There is no output for a method:\n",
      "None\n"
     ]
    }
   ],
   "source": [
    "print('There is no output for a method:')\n",
    "test_list = []\n",
    "print(test_list.append(1))"
   ]
  },
  {
   "cell_type": "code",
   "execution_count": 16,
   "id": "26ff23f5",
   "metadata": {},
   "outputs": [
    {
     "name": "stdout",
     "output_type": "stream",
     "text": [
      "sum is a function\n",
      "6\n"
     ]
    }
   ],
   "source": [
    "print('sum is a function')\n",
    "test_list = [1, 2, 3]\n",
    "summation = sum(test_list)\n",
    "print(summation)"
   ]
  },
  {
   "cell_type": "code",
   "execution_count": 17,
   "id": "b870ee96",
   "metadata": {},
   "outputs": [
    {
     "name": "stdout",
     "output_type": "stream",
     "text": [
      "pd.sort_values is a function\n",
      "      column1  column2  column3\n",
      "row2        4        5        6\n",
      "row1        1        2        3\n",
      "\n",
      "\n",
      "If no value assignment, the original DataFrame remains unchanged \n",
      "       column1  column2  column3\n",
      "row1        1        2        3\n",
      "row2        4        5        6\n",
      "\n",
      "\n",
      "The DataFrame is now sorted!\n",
      "      column1  column2  column3\n",
      "row2        4        5        6\n",
      "row1        1        2        3\n"
     ]
    }
   ],
   "source": [
    "# now we try to sort the DataFrame by the first column\n",
    "# by descending order\n",
    "print('pd.sort_values is a function')\n",
    "test_df = pd.DataFrame(array, index=['row1', 'row2'], columns=['column1', 'column2', 'column3'])\n",
    "\n",
    "print(test_df.sort_values(by='column1', ascending=False))\n",
    "print('\\n')\n",
    "\n",
    "# apply sort_values\n",
    "test_df.sort_values(by='column1', ascending=False)\n",
    "print('If no value assignment, the original DataFrame remains unchanged', '\\n', test_df)\n",
    "print('\\n')\n",
    "\n",
    "# The correct approach is to assign the sorted DataFrame to itself\n",
    "print('The DataFrame is now sorted!')\n",
    "test_df = test_df.sort_values(by='column1', ascending=False)\n",
    "print(test_df)\n"
   ]
  },
  {
   "cell_type": "markdown",
   "id": "31127819",
   "metadata": {},
   "source": [
    "### Define_function\n",
    "\n",
    "Functions are a fundamental concept in Python that allow you to encapsulate a block of code into a reusable unit. Defining functions helps in modularizing your code, making it easier to read, maintain, and debug. Functions enable you to break down complex tasks into smaller, manageable parts, promoting code reusability and reducing redundancy.\n",
    "\n",
    "#### Basic Function Syntax\n",
    "\n",
    "The syntax for defining a function in Python is as follows:\n",
    "\n",
    "```python\n",
    "def function_name(parameters):\n",
    "    # Code block to be executed when the function is called\n",
    "    # Optionally, the function can return a value using the 'return' statement\n",
    "```\n",
    "- function_name: The name of the function, which you choose to identify and call the function.\n",
    "- parameters: The input arguments (if any) that the function takes. These are variables used to pass data to the function.\n",
    "- return: An optional statement that returns a value from the function to the caller. If omitted, the function returns **None**.\n",
    "\n",
    "Example 1:\n",
    "```python\n",
    "def greet(name):\n",
    "    return f\"Hello, {name}! Welcome to the Python world.\"\n",
    "\n",
    "# Call the function\n",
    "message = greet(\"Alice\")\n",
    "print(message)\n",
    "\n",
    "# Output:\n",
    "# Hello, Alice! Welcome to the Python world.\n",
    "```\n",
    "\n",
    "- In this example, we defined a function named **greet** that takes a single parameter name. The function returns a greeting message that includes the provided name. When we call the function with \"Alice\" as an argument, it returns the personalized greeting, which we store in the variable message and then print.\n",
    "\n",
    "Example 2 (Function with Default Parameters):\n",
    "\n",
    "- You can also define functions with default parameters. Default parameters are assigned a value if no value is provided when calling the function.\n",
    "\n",
    "```python\n",
    "def greet(name=\"Guest\"):\n",
    "    return f\"Hello, {name}! Welcome to the Python world.\"\n",
    "\n",
    "# Call the function without providing an argument\n",
    "message = greet()\n",
    "print(message)\n",
    "\n",
    "# Output:\n",
    "# Hello, Guest! Welcome to the Python world.\n",
    "```\n",
    "\n",
    "- In this example, the greet function has a default parameter name=\"Guest\". If we call the function without providing any argument, it will use the default value and greet the \"Guest.\""
   ]
  },
  {
   "cell_type": "code",
   "execution_count": 9,
   "id": "f4972447",
   "metadata": {},
   "outputs": [],
   "source": [
    "def my_function(input1, input2):\n",
    "    # write your funciton details here\n",
    "    # consider both inputs are numerical values (int, float)\n",
    "    output = input1 + input2\n",
    "    return output"
   ]
  },
  {
   "cell_type": "code",
   "execution_count": 10,
   "id": "35de0373",
   "metadata": {},
   "outputs": [
    {
     "data": {
      "text/plain": [
       "3"
      ]
     },
     "execution_count": 10,
     "metadata": {},
     "output_type": "execute_result"
    }
   ],
   "source": [
    "my_function(1, 2) #return the addition"
   ]
  },
  {
   "cell_type": "markdown",
   "id": "f9a1b7c0-12df-411e-82e3-379cecc1aafd",
   "metadata": {},
   "source": [
    "## Class\n",
    "\n",
    "In Python, a class is a blueprint for creating objects. It allows you to define your own custom data types with attributes (variables) and methods (functions) that operate on those attributes. Classes provide a way to organize and encapsulate data and behavior, making code more organized, reusable, and maintainable.\n",
    "\n",
    "#### Basic Syntax\n",
    "\n",
    "```python\n",
    "class ClassName:\n",
    "    def __init__(self, parameter1, parameter2, ...):\n",
    "        # Constructor method to initialize attributes\n",
    "        self.attribute1 = parameter1\n",
    "        self.attribute2 = parameter2\n",
    "        # ...\n",
    "\n",
    "    def method1(self, arg1, arg2, ...):\n",
    "        # Method 1 code here\n",
    "        # ...\n",
    "\n",
    "    def method2(self, arg1, arg2, ...):\n",
    "        # Method 2 code here\n",
    "        # ...\n",
    "```\n",
    "\n",
    "- The `class` keyword is used to define a new class followed by the ClassName.\n",
    "- The `__init__` method (constructor) is called when an object of the class is created. It initializes the object's attributes with the given parameters.\n",
    "- `self` is a reference to the instance of the class and is automatically passed as the first argument to the methods within the class.\n",
    "- You can define additional methods within the class like `method1` and `method2`, which operate on the class's attributes.\n",
    "\n",
    "A simple clss of Person is shown below:\n",
    "\n",
    "```python\n",
    "class Person:\n",
    "    def __init__(self, name, age):\n",
    "        self.name = name\n",
    "        self.age = age\n",
    "\n",
    "    def say_hello(self):\n",
    "        return f\"Hello, my name is {self.name} and I am {self.age} years old.\"\n",
    "\n",
    "# Create an instance of the Person class\n",
    "person1 = Person(\"Alice\", 30)\n",
    "\n",
    "# Call the say_hello method\n",
    "message = person1.say_hello()\n",
    "print(message)  # Output: Hello, my name is Alice and I am 30 years old.\n",
    "```\n",
    "\n",
    "- In this example, we define the `Person` class with the `__init__` method to initialize the `name` and `age` attributes. We also have a method called `say_hello` that returns a greeting with the person's name and age. We then create an instance of the `Person` class and call the `say_hello` method on that instance.\n",
    "\n",
    "#### Inheritance\n",
    "\n",
    "Python supports inheritance, allowing you to create a new class that inherits the attributes and methods from an existing class. This promotes code reusability and allows you to create specialized classes based on a more general class.\n",
    "\n",
    "```python\n",
    "class Student(Person):\n",
    "    def __init__(self, name, age, student_id):\n",
    "        super().__init__(name, age)\n",
    "        self.student_id = student_id\n",
    "\n",
    "    def display_student_info(self):\n",
    "        return f\"Student: {self.name}, Age: {self.age}, ID: {self.student_id}\"\n",
    "\n",
    "# Create an instance of the Student class\n",
    "student1 = Student(\"Bob\", 22, \"12345\")\n",
    "\n",
    "# Call the say_hello method inherited from the Person class\n",
    "print(student1.say_hello())  # Output: Hello, my name is Bob and I am 22 years old.\n",
    "\n",
    "# Call the display_student_info method\n",
    "print(student1.display_student_info())  # Output: Student: Bob, Age: 22, ID: 12345\n",
    "```\n",
    "\n",
    "In this example, we create a `Student` class that inherits from the `Person` class. The Student class has an additional attribute `student_id` and a new method `display_student_info`. `The super()` function is used to call the constructor of the parent class, ensuring that the `name` and `age` attributes are initialized correctly."
   ]
  },
  {
   "cell_type": "code",
   "execution_count": 11,
   "id": "47253f82-08cd-411d-9628-2be9d0e56956",
   "metadata": {},
   "outputs": [],
   "source": [
    "# Define the base class 'Vehicle'\n",
    "class Vehicle:\n",
    "    def __init__(self, brand, model, year):\n",
    "        self.brand = brand\n",
    "        self.model = model\n",
    "        self.year = year\n",
    "\n",
    "    def display_info(self):\n",
    "        return f\"{self.year} {self.brand} {self.model}\"\n",
    "\n",
    "# Define a subclass 'Car' that inherits from 'Vehicle'\n",
    "class Car(Vehicle):\n",
    "    def __init__(self, brand, model, year, num_doors):\n",
    "        # Call the constructor of the base class using super()\n",
    "        super().__init__(brand, model, year)\n",
    "        self.num_doors = num_doors\n",
    "\n",
    "    def display_info(self):\n",
    "        # Override the display_info method to include the number of doors\n",
    "        return f\"{self.year} {self.brand} {self.model} ({self.num_doors} doors)\""
   ]
  },
  {
   "cell_type": "code",
   "execution_count": 12,
   "id": "a5ca1c04-1d07-4a2a-ac73-382c331d494a",
   "metadata": {},
   "outputs": [],
   "source": [
    "# Define another subclass 'Motorcycle' that also inherits from 'Vehicle'\n",
    "class Motorcycle(Vehicle):\n",
    "    def __init__(self, brand, model, year, num_wheels):\n",
    "        # Call the constructor of the base class using super()\n",
    "        super().__init__(brand, model, year)\n",
    "        self.num_wheels = num_wheels\n",
    "\n",
    "    def display_info(self):\n",
    "        # Override the display_info method to include the number of wheels\n",
    "        return f\"{self.year} {self.brand} {self.model} ({self.num_wheels} wheels)\""
   ]
  },
  {
   "cell_type": "code",
   "execution_count": 13,
   "id": "b9990bc8-76fa-44eb-8e44-b2cdf19d7477",
   "metadata": {},
   "outputs": [
    {
     "name": "stdout",
     "output_type": "stream",
     "text": [
      "2022 Toyota Corolla (4 doors)\n",
      "2021 Harley Davidson Sportster (2 wheels)\n"
     ]
    }
   ],
   "source": [
    "# Create instances of the subclasses\n",
    "car1 = Car(\"Toyota\", \"Corolla\", 2022, 4)\n",
    "motorcycle1 = Motorcycle(\"Harley Davidson\", \"Sportster\", 2021, 2)\n",
    "\n",
    "# Display information about the vehicles\n",
    "print(car1.display_info())          # Output: 2022 Toyota Corolla (4 doors)\n",
    "print(motorcycle1.display_info())   # Output: 2021 Harley Davidson Sportster (2 wheels)"
   ]
  },
  {
   "cell_type": "code",
   "execution_count": null,
   "id": "36b209bc-2482-4217-96f6-f89c4a4c17f6",
   "metadata": {},
   "outputs": [],
   "source": []
  }
 ],
 "metadata": {
  "kernelspec": {
   "display_name": "wang2024",
   "language": "python",
   "name": "python3"
  },
  "language_info": {
   "codemirror_mode": {
    "name": "ipython",
    "version": 3
   },
   "file_extension": ".py",
   "mimetype": "text/x-python",
   "name": "python",
   "nbconvert_exporter": "python",
   "pygments_lexer": "ipython3",
   "version": "3.11.5"
  }
 },
 "nbformat": 4,
 "nbformat_minor": 5
}
