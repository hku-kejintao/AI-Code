{
 "cells": [
  {
   "cell_type": "markdown",
   "metadata": {},
   "source": [
    "# Exercise 02 Regression Models\n",
    "\n",
    "In this exercise, you need to follow the requirements of each question to generate the Python code, and the following example is for reference：\n",
    "\n",
    "- Sample Question: Write a program that takes the user's name as input and prints \"Hello, [name]!\" where [name] is the user's input.\n",
    "\n",
    "- Potential Answer:\n",
    "\n",
    "```python\n",
    "    name = input(\"Enter your name: \")\n",
    "    print(\"Hello, \" + name + \"!\")\n",
    "```\n",
    "- If you enter 'David', the code will output 'Hello, David!', and this will satisfy the requirements.\n",
    "\n",
    "## Attention\n",
    "- Generally, there will be multiple answers for one question and you don't have to strictly follow the instructions in the tutorial, as long as you can make the output of the code meet the requirements of the question.\n",
    "- If possible, strive to make your code concise and avoid excessive reliance on less commonly used libraries.\n",
    "- You may need to search for information on the Internet to complete the excercise."
   ]
  },
  {
   "cell_type": "markdown",
   "metadata": {},
   "source": [
    "### Question 01:\n",
    "\n",
    "Consider the following dataset:\n",
    "\n",
    "```python\n",
    "    from sklearn.linear_model import LinearRegression\n",
    "    import numpy as np\n",
    "    X = np.array([[1.5, 2, 3], [2, 7, 5], [4, 2, -1], [4, 6, 4]])\n",
    "    y = np.array([4, 8, 6, 9])\n",
    "```\n",
    "\n",
    "Apply linear regression using the `LinearRegression` class from `sklearn.linear_model`. Print the coefficients (weights) and the intercept of the linear regression model.\n",
    "\n",
    "### Write your answer in the following code frame:"
   ]
  },
  {
   "cell_type": "code",
   "execution_count": null,
   "metadata": {},
   "outputs": [],
   "source": []
  },
  {
   "cell_type": "markdown",
   "metadata": {},
   "source": [
    "### Question 02:\n",
    "\n",
    "Suppose you have a linear regression model with coefficients w1 = [0.5, 0.9, 1.2] and intercept w0 = 2.4. Given a new data point X_new = [3, 4, 6], calculate the predicted output using the linear regression model.\n",
    "\n",
    "- Hint: using the dot product in numpy library.\n",
    "\n",
    "### Write your answer in the following code frame:"
   ]
  },
  {
   "cell_type": "code",
   "execution_count": null,
   "metadata": {},
   "outputs": [],
   "source": []
  },
  {
   "cell_type": "markdown",
   "metadata": {},
   "source": [
    "### Question 03:\n",
    "\n",
    "Given a dataset loaded from a CSV file named 'FD_data.csv' containing columns 'k' (density) and 'q' (flow), create a scatter plot using the matplotlib library to visualize the relationship between density and flow. Label the x-axis as 'Density (veh/km)' and the y-axis as 'Flow (veh/hour)'. Remember to add grid lines to the plot.\n",
    "\n",
    "### Write your answer in the following code frame:"
   ]
  },
  {
   "cell_type": "code",
   "execution_count": null,
   "metadata": {},
   "outputs": [],
   "source": []
  },
  {
   "cell_type": "markdown",
   "metadata": {},
   "source": [
    "### Question 04:\n",
    "\n",
    "Extend the scatter plot code in question 03 to **add a linear regression line to the plot**. Fit a linear regression model to the 'FD_data' dataset and plot the linear regression line along with the scatter plot.\n",
    "\n",
    "### Write your answer in the following code frame:"
   ]
  },
  {
   "cell_type": "code",
   "execution_count": null,
   "metadata": {},
   "outputs": [],
   "source": []
  },
  {
   "cell_type": "markdown",
   "metadata": {},
   "source": [
    "### Question 05:\n",
    "\n",
    "Calculate the coefficient of determination (R^2) to evaluate the goodness of fit.\n",
    "\n",
    "The $R^2$ formulation can be demonstrated as follows:\n",
    "\n",
    "$$R^2 = 1 - \\frac{SS_{res}}{SS_{tot}} $$\n",
    "\n",
    "The sum of squares of residuals, also called the residual sum of squares ($SS_{res}$):\n",
    "  \n",
    "$$ SS_{res} = \\sum_{i}{(y_{i}-f_{i})}^{2}  $$\n",
    "- $y_{i}$ is the label or true value\n",
    "- $f_{i}$ is the predicted value\n",
    "\n",
    "The total sum of squares (proportional to the variance of the data, $SS_{tot}$):\n",
    "\n",
    "$$ SS_{tot} = \\sum_{i}{(y_{i}-\\bar{y} )}^{2}  $$\n",
    "\n",
    "- $\\bar{y}$ is the mean value for $y_1, y_2, \\dots, y_n$\n",
    "\n",
    "If you want to implement the above formula as an exercise, you can write your own program to calculate the $R^2$. However, There are existing third-party libraries in Python that help us easily calculate $R^2$ **without having to write our own programs**. You can refer to the following code in `sklearn.metrics`:\n",
    "\n",
    "```python\n",
    "    from sklearn.metrics import r2_score\n",
    "```\n",
    "\n",
    "### Write your answer in the following code frame:\n"
   ]
  },
  {
   "cell_type": "code",
   "execution_count": null,
   "metadata": {},
   "outputs": [],
   "source": []
  },
  {
   "cell_type": "markdown",
   "metadata": {},
   "source": [
    "### Question 06 (Regularization):\n",
    "\n",
    "Use the dataset in Question 03\n",
    "1. Convert the density feature vector to the feature matrix for polynomial regression, using the highest fourth-order features;\n",
    "2. Use Lasso regression, Ridge regression, and ElasticNet for polynomial regression, set appropriate parameters ensuring that the regression model converges;\n",
    "3. Draw three regression curves on a figure and calculate the corresponding $R^2$.\n",
    "\n",
    "Hint: You can use [`sklearn.preprocessing.PolynomialFeatures`](https://scikit-learn.org/stable/modules/generated/sklearn.preprocessing.PolynomialFeatures.html) to conveniently generate the feature matrix of polynomial regression\n",
    "\n",
    "### Write your answer in the following code frame:"
   ]
  },
  {
   "cell_type": "code",
   "execution_count": null,
   "metadata": {},
   "outputs": [],
   "source": []
  }
 ],
 "metadata": {
  "kernelspec": {
   "display_name": "torch",
   "language": "python",
   "name": "python3"
  },
  "language_info": {
   "codemirror_mode": {
    "name": "ipython",
    "version": 3
   },
   "file_extension": ".py",
   "mimetype": "text/x-python",
   "name": "python",
   "nbconvert_exporter": "python",
   "pygments_lexer": "ipython3",
   "version": "3.9.18"
  }
 },
 "nbformat": 4,
 "nbformat_minor": 2
}
