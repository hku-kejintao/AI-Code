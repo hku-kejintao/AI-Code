{
 "cells": [
  {
   "cell_type": "markdown",
   "id": "3a0cb421",
   "metadata": {},
   "source": [
    "# Tutorial 4 - Artificial Neural Networks"
   ]
  },
  {
   "cell_type": "markdown",
   "id": "f6394c9a-7e2d-43e2-a584-2018df1c9625",
   "metadata": {},
   "source": [
    "## Overview\n",
    "\n",
    "Welcome to the Python Tutorial on Artificial Neural Networks (ANNs)! In this comprehensive guide, we will delve into one of the most powerful and versatile tools in machine learning, inspired by the structure and functioning of the human brain.\n",
    "\n",
    "Artificial Neural Networks are a class of deep learning algorithms that excel at learning complex patterns and representations from data. ANNs have found applications in various domains, such as image and speech recognition, natural language processing, and recommendation systems.\n",
    "\n",
    "In this tutorial, we will cover the fundamentals of Artificial Neural Networks, their architecture, and the mathematics behind their working. We will also explore different types of ANN architectures, such as feedforward networks and recurrent networks, and discuss their use cases.\n",
    "\n",
    "## Prerequisites\n",
    "\n",
    "Before diving into this tutorial, it is recommended to have a solid understanding of the following topics:\n",
    "\n",
    "- Python programming fundamentals\n",
    "- Basic concepts of machine learning, including supervised and unsupervised learning\n",
    "- Linear algebra concepts, such as matrices and vectors\n",
    "- Calculus, particularly derivatives\n",
    "\n",
    "Knowledge of libraries like NumPy, scikit-learn and Pytorch will be beneficial.\n",
    "\n",
    "## What You'll Learn\n",
    "\n",
    "By the end of this tutorial, you will:\n",
    "\n",
    "- Understand the structure and components of Artificial Neural Networks.\n",
    "- Be familiar with different activation functions and how they affect the network's behavior.\n",
    "- Learn about the forward and backward propagation algorithms used in training ANNs.\n",
    "- Implement basic feedforward networks in Python.\n",
    "- Explore advanced engineering topics, such as regularization techniques and optimization algorithms.\n",
    "- Apply ANNs to real-world datasets and solve classification and regression problems."
   ]
  },
  {
   "cell_type": "markdown",
   "id": "bcb12438",
   "metadata": {},
   "source": [
    "## Problem Description\n",
    "\n",
    "Consider the ridership of a public transportation system in the San Francisco\n",
    "bay area, Bay Area Rapid Transit (BART). Recently, a group of researchers is\n",
    "assuming that the ridership of the transit system is related to some\n",
    "socio-economic factors, which are preliminarily the **total population near\n",
    "each station, number of households that own 0 vehicles, total\n",
    "employment, and total road network density**. The raw census data is\n",
    "collected by the [Environment Protection Agency of the United States](https://www.epa.gov/sites/default/files/2021-06/documents/epa_sld_3.0_technicaldocumentationuserguide_may2021.pdf) while\n",
    "the ridership data is available at the BART’s [official website](https://www.bart.gov/about/reports/ridership). The data for the\n",
    "catchment area for each station is processed by Github user [HaTT2018](https://github.com/HaTT2018/BART_Ridership_Prediction)."
   ]
  },
  {
   "cell_type": "markdown",
   "id": "ea3aee3c",
   "metadata": {},
   "source": [
    "To make this problem as simple as possible, we only investigate the ridership from station *Embarcadero* (the CBD of San Francisco) to other stations. (picture adopted from https://www.bart.gov/system-map)\n",
    "\n",
    "<img title=\"Map of BART\" src=\"./img/BART.png\" width=\"800\">"
   ]
  },
  {
   "cell_type": "code",
   "execution_count": 9,
   "id": "5e48f375",
   "metadata": {},
   "outputs": [],
   "source": [
    "import numpy as np\n",
    "import pandas as pd\n",
    "import matplotlib.pyplot as plt\n",
    "from sklearn.preprocessing import minmax_scale"
   ]
  },
  {
   "cell_type": "code",
   "execution_count": 11,
   "id": "b4a85826",
   "metadata": {},
   "outputs": [
    {
     "data": {
      "text/html": [
       "<div>\n",
       "<style scoped>\n",
       "    .dataframe tbody tr th:only-of-type {\n",
       "        vertical-align: middle;\n",
       "    }\n",
       "\n",
       "    .dataframe tbody tr th {\n",
       "        vertical-align: top;\n",
       "    }\n",
       "\n",
       "    .dataframe thead th {\n",
       "        text-align: right;\n",
       "    }\n",
       "</style>\n",
       "<table border=\"1\" class=\"dataframe\">\n",
       "  <thead>\n",
       "    <tr style=\"text-align: right;\">\n",
       "      <th></th>\n",
       "      <th>TotPop</th>\n",
       "      <th>AutoOwn0</th>\n",
       "      <th>TotEmp</th>\n",
       "      <th>Tot Rd Dens</th>\n",
       "    </tr>\n",
       "  </thead>\n",
       "  <tbody>\n",
       "    <tr>\n",
       "      <th>0</th>\n",
       "      <td>11084</td>\n",
       "      <td>1664</td>\n",
       "      <td>33120</td>\n",
       "      <td>42.232657</td>\n",
       "    </tr>\n",
       "    <tr>\n",
       "      <th>1</th>\n",
       "      <td>142973</td>\n",
       "      <td>20505</td>\n",
       "      <td>103479</td>\n",
       "      <td>32.296762</td>\n",
       "    </tr>\n",
       "    <tr>\n",
       "      <th>2</th>\n",
       "      <td>36177</td>\n",
       "      <td>4704</td>\n",
       "      <td>47570</td>\n",
       "      <td>31.822631</td>\n",
       "    </tr>\n",
       "    <tr>\n",
       "      <th>3</th>\n",
       "      <td>104191</td>\n",
       "      <td>8018</td>\n",
       "      <td>39663</td>\n",
       "      <td>32.894203</td>\n",
       "    </tr>\n",
       "    <tr>\n",
       "      <th>4</th>\n",
       "      <td>70630</td>\n",
       "      <td>1142</td>\n",
       "      <td>13924</td>\n",
       "      <td>20.531431</td>\n",
       "    </tr>\n",
       "  </tbody>\n",
       "</table>\n",
       "</div>"
      ],
      "text/plain": [
       "   TotPop  AutoOwn0  TotEmp  Tot Rd Dens\n",
       "0   11084      1664   33120    42.232657\n",
       "1  142973     20505  103479    32.296762\n",
       "2   36177      4704   47570    31.822631\n",
       "3  104191      8018   39663    32.894203\n",
       "4   70630      1142   13924    20.531431"
      ]
     },
     "execution_count": 11,
     "metadata": {},
     "output_type": "execute_result"
    }
   ],
   "source": [
    "# take the first 48 stations becasue the \n",
    "# last 2 stations were not yet opened\n",
    "# by the time this data was collected\n",
    "data_BART_sld = pd.read_csv('data_X.csv').iloc[:48, 1:]\n",
    "data_BART_sld.head()"
   ]
  },
  {
   "cell_type": "code",
   "execution_count": 12,
   "id": "7c181748",
   "metadata": {},
   "outputs": [],
   "source": [
    "# The file \"3d_daily.npy\" contains the daily ridership\n",
    "# data from each station to all the other stations.\n",
    "# Its shape is [50, 50, 365]. Each dimension represents\n",
    "# origin, destination, day in the year respectively\n",
    "\n",
    "# Embarcadero is the 18th station in the list\n",
    "OD_BART = np.load('3d_daily.npy').sum(axis=2)[17, :48]"
   ]
  },
  {
   "cell_type": "code",
   "execution_count": 13,
   "id": "92bb5761",
   "metadata": {},
   "outputs": [
    {
     "name": "stdout",
     "output_type": "stream",
     "text": [
      "Shape of data_BART_sld (48, 4)\n",
      "Shape of OD_BART (48,)\n"
     ]
    }
   ],
   "source": [
    "print('Shape of data_BART_sld', data_BART_sld.shape)\n",
    "print('Shape of OD_BART', OD_BART.shape)"
   ]
  },
  {
   "cell_type": "markdown",
   "id": "ab5bff3d",
   "metadata": {},
   "source": [
    "## The model layout"
   ]
  },
  {
   "cell_type": "markdown",
   "id": "9a3dbd97",
   "metadata": {},
   "source": [
    "Our job is to train an MLP model which takes \"data_BART_sld\" as input and generate \"OD_BART\" as output and make it as close to the real data as possible.\n",
    "\n",
    "Consider a simple MLP, with 1 input layer, 1 hidden layer, and 1 output layer. The input layer has a dimension of 4 because we have 4 attributes of the scio-economic census. The output layer is 1-dimensional because the ridership is a scalar. The number of dimension of the hidden layer is set to be 2 for the sake of simplicity. The activation function is Sigmoid function as introduced in the lecture.\n",
    "\n",
    "<img src=\"./img/MLP_demo.png\" width=\"500\">"
   ]
  },
  {
   "cell_type": "markdown",
   "id": "354c8a21",
   "metadata": {},
   "source": [
    "## Using PyTorch"
   ]
  },
  {
   "cell_type": "code",
   "execution_count": null,
   "id": "28d3ed67",
   "metadata": {},
   "outputs": [],
   "source": [
    "%pip install torch\n",
    "%pip install torchvision\n",
    "%pip install torchinfo"
   ]
  },
  {
   "cell_type": "code",
   "execution_count": 33,
   "id": "e82c2af6",
   "metadata": {},
   "outputs": [],
   "source": [
    "import torch\n",
    "import torch.nn as nn\n",
    "import torch.nn.functional as F\n",
    "import torch.optim as optim\n",
    "from torchinfo import summary\n",
    "from torch.utils.data import TensorDataset\n",
    "from torchvision import datasets\n",
    "from sklearn.metrics import mean_absolute_error, r2_score"
   ]
  },
  {
   "cell_type": "markdown",
   "id": "77f03216",
   "metadata": {},
   "source": [
    "### Define a network\n",
    "The structure used here is called \"class\", you can consider it as an object, here it is a network."
   ]
  },
  {
   "cell_type": "code",
   "execution_count": null,
   "id": "4bbc6c26",
   "metadata": {},
   "outputs": [],
   "source": [
    "# Model specification\n",
    "class Simple_Network(nn.Module):\n",
    "    def __init__(self, inp_dim, hid_dim, out_dim):\n",
    "        \"\"\"\n",
    "        Initializes the neural network architecture.\n",
    "\n",
    "        Parameters:\n",
    "        inp_dim (int): The dimensionality of the input layer.\n",
    "        hid_dim (int): The dimensionality of the hidden layers.\n",
    "        out_dim (int): The dimensionality of the output layer.\n",
    "        num_hidden_layers (int): The number of hidden layers, default is 1.\n",
    "        \"\"\"\n",
    "        super(Simple_Network, self).__init__()\n",
    "        self.input_layer = nn.Linear(inp_dim, hid_dim)\n",
    "        self.activation_function = nn.Sigmoid()\n",
    "        self.output_layer = nn.Linear(hid_dim, out_dim)\n",
    "        \n",
    "    def forward(self, x):\n",
    "        # x is the input data\n",
    "        h = self.input_layer(x)  # h represents for the output for hidden layer\n",
    "        h = self.activation_function(h)\n",
    "        y = self.output_layer(h)  # y is the output data\n",
    "        return y"
   ]
  },
  {
   "cell_type": "markdown",
   "id": "b4b30fdb",
   "metadata": {},
   "source": [
    "### Prepare data\n",
    "We divide the original data into two parts, 70% for training and 30% for model validation. Thus, the first 33 samples are for training, and the rest of the samples are for validation."
   ]
  },
  {
   "cell_type": "code",
   "execution_count": 35,
   "id": "bf37a5c3",
   "metadata": {},
   "outputs": [],
   "source": [
    "# I'm copying the data definition here\n",
    "X_train = minmax_scale(data_BART_sld)[:33, :]\n",
    "y_train = minmax_scale(OD_BART)[:33].reshape(-1, 1)\n",
    "X_val = minmax_scale(data_BART_sld)[33:, :]\n",
    "y_val = minmax_scale(OD_BART)[33:].reshape(-1, 1)"
   ]
  },
  {
   "cell_type": "code",
   "execution_count": 36,
   "id": "8c30c221",
   "metadata": {},
   "outputs": [],
   "source": [
    "# this line returns the device that you are going to use\n",
    "# if cuda is successfully installed, it will return \"cuda\"\n",
    "# otherwise, \"cpu\"\n",
    "device = torch.device(\"cuda\" if torch.cuda.is_available() else \"cpu\")\n",
    "\n",
    "X_train = torch.tensor(X_train, dtype=torch.float32).to(device)\n",
    "y_train = torch.tensor(y_train, dtype=torch.float32).to(device)\n",
    "X_val = torch.tensor(X_val, dtype=torch.float32).to(device)\n",
    "y_val = torch.tensor(y_val, dtype=torch.float32).to(device)\n",
    "\n",
    "# minibatch training, useful for big data, not useful here but I'm showing how to do this\n",
    "# to realize full batch training, simply set this value to be very large\n",
    "batch_size = 100  \n",
    "loader_train = torch.utils.data.DataLoader(\n",
    "    TensorDataset(X_train, y_train), batch_size, shuffle=True\n",
    ")\n",
    "iter_train = iter(loader_train)"
   ]
  },
  {
   "cell_type": "markdown",
   "id": "803851f9",
   "metadata": {},
   "source": [
    "### Train"
   ]
  },
  {
   "cell_type": "code",
   "execution_count": 37,
   "id": "adfb587f",
   "metadata": {},
   "outputs": [],
   "source": [
    "# define the model and loss function\n",
    "## you can play with different model specifications here!\n",
    "## think about what part of the model you are modifying.\n",
    "inp_dim = 4\n",
    "hid_dim = 2\n",
    "out_dim = 1\n",
    "\n",
    "model = Simple_Network(inp_dim, hid_dim, out_dim).to(device)\n",
    "loss_func = nn.MSELoss()\n",
    "\n",
    "train_loss_torch = []\n",
    "val_loss_torch = []\n",
    "\n",
    "optimizer = optim.SGD(model.parameters(), lr=0.01)  # lr refers to learning rate"
   ]
  },
  {
   "cell_type": "code",
   "execution_count": 38,
   "id": "7f12bedd",
   "metadata": {},
   "outputs": [
    {
     "data": {
      "text/plain": [
       "==========================================================================================\n",
       "Layer (type:depth-idx)                   Output Shape              Param #\n",
       "==========================================================================================\n",
       "Simple_Network                           --                        --\n",
       "├─Linear: 1-1                            [1, 2]                    10\n",
       "├─Linear: 1-2                            [1, 2]                    6\n",
       "├─Sigmoid: 1-3                           [1, 2]                    --\n",
       "├─Linear: 1-4                            [1, 1]                    3\n",
       "==========================================================================================\n",
       "Total params: 19\n",
       "Trainable params: 19\n",
       "Non-trainable params: 0\n",
       "Total mult-adds (M): 0.00\n",
       "==========================================================================================\n",
       "Input size (MB): 0.00\n",
       "Forward/backward pass size (MB): 0.00\n",
       "Params size (MB): 0.00\n",
       "Estimated Total Size (MB): 0.00\n",
       "=========================================================================================="
      ]
     },
     "execution_count": 38,
     "metadata": {},
     "output_type": "execute_result"
    }
   ],
   "source": [
    "# the model specification\n",
    "summary(model, (1, 4))"
   ]
  },
  {
   "cell_type": "code",
   "execution_count": 39,
   "id": "73bb7a1d",
   "metadata": {},
   "outputs": [
    {
     "name": "stdout",
     "output_type": "stream",
     "text": [
      "Epoch 0   success, val loss:0.040174, train loss:0.057262,train mae:0.191064,val mae loss:0.149063,train r2:-0.049227,val r2:-0.002627\n",
      "Epoch 50   success, val loss:0.042888, train loss:0.054857,train mae:0.188867,val mae loss:0.167357,train r2:-0.005150,val r2:-0.070372\n",
      "Epoch 100   success, val loss:0.043746, train loss:0.054774,train mae:0.189082,val mae loss:0.171840,train r2:-0.003642,val r2:-0.091779\n",
      "Epoch 150   success, val loss:0.043916, train loss:0.054770,train mae:0.189119,val mae loss:0.172664,train r2:-0.003561,val r2:-0.096015\n"
     ]
    }
   ],
   "source": [
    "model.train()\n",
    "epochs = 200\n",
    "\n",
    "for e in range(epochs):\n",
    "    for i in range(len(loader_train)):\n",
    "        # obtian X and y from the dataloader\n",
    "        try:\n",
    "            X, y = next(iter_train)\n",
    "        except:\n",
    "            iter_train = iter(loader_train)\n",
    "            X, y = next(iter_train)\n",
    "        \n",
    "        out = model(X)  # forward propagation\n",
    "        loss = loss_func(out, y)  # training loss\n",
    "\n",
    "        out_val = model(X_val)\n",
    "        loss_val = loss_func(out_val, y_val)  # validation loss\n",
    "\n",
    "\n",
    "        # calculate  MAE and R²\n",
    "        train_mae = mean_absolute_error(y.cpu().detach().numpy(), out.cpu().detach().numpy())\n",
    "        val_mae = mean_absolute_error(y_val.cpu().detach().numpy(), out_val.cpu().detach().numpy())\n",
    "\n",
    "        train_r2 = r2_score(y.cpu().detach().numpy(), out.cpu().detach().numpy())\n",
    "        val_r2 = r2_score(y_val.cpu().detach().numpy(), out_val.cpu().detach().numpy())\n",
    "\n",
    "\n",
    "        optimizer.zero_grad()\n",
    "        loss.backward()  # backward propagation\n",
    "        optimizer.step()  # update\n",
    "\n",
    "        val_loss_torch.append(loss_val.cpu().detach().numpy())\n",
    "        train_loss_torch.append(loss.cpu().detach().numpy())\n",
    "    if e%50==0:\n",
    "        print('Epoch %i   success, val loss:%.6f, train loss:%.6f,train mae:%.6f,val mae loss:%.6f,train r2:%.6f,val r2:%.6f'%(\n",
    "            e, loss_val.cpu().detach().numpy(), loss.cpu().detach().numpy(),train_mae,val_mae,train_r2, val_r2 \n",
    "        ))\n",
    "        "
   ]
  },
  {
   "cell_type": "markdown",
   "id": "6bbd9b2e",
   "metadata": {},
   "source": [
    "### Visualize the loss"
   ]
  },
  {
   "cell_type": "code",
   "execution_count": 40,
   "id": "a8178258",
   "metadata": {},
   "outputs": [
    {
     "data": {
      "image/png": "[encoded data removed]",
      "text/plain": [
       "<Figure size 1200x600 with 2 Axes>"
      ]
     },
     "metadata": {
      "needs_background": "light"
     },
     "output_type": "display_data"
    }
   ],
   "source": [
    "fig = plt.figure(figsize=[8, 4], dpi=150)\n",
    "ax1 = fig.add_subplot(1, 2, 1)\n",
    "ax1.plot(train_loss_torch)\n",
    "ax1.grid()\n",
    "ax1.set_ylabel('Train loss')\n",
    "ax1.set_xlabel('Epoch')\n",
    "\n",
    "ax2 = fig.add_subplot(1, 2, 2)\n",
    "ax2.plot(val_loss_torch)\n",
    "ax2.grid()\n",
    "ax2.set_ylabel('Validation loss')\n",
    "ax2.set_xlabel('Epoch')\n",
    "\n",
    "plt.tight_layout()"
   ]
  },
  {
   "cell_type": "markdown",
   "id": "e7ef3db5",
   "metadata": {},
   "source": [
    "### Visualize the result"
   ]
  },
  {
   "cell_type": "code",
   "execution_count": 41,
   "id": "ed50b242",
   "metadata": {
    "scrolled": true
   },
   "outputs": [
    {
     "data": {
      "text/plain": [
       "<matplotlib.legend.Legend at 0x7feba0a375e0>"
      ]
     },
     "execution_count": 41,
     "metadata": {},
     "output_type": "execute_result"
    },
    {
     "data": {
      "image/png": "[encoded data removed]",
      "text/plain": [
       "<Figure size 900x600 with 1 Axes>"
      ]
     },
     "metadata": {
      "needs_background": "light"
     },
     "output_type": "display_data"
    }
   ],
   "source": [
    "y_pred_torch = model(X_val).cpu().detach().numpy().flatten()\n",
    "y_val_torch = y_val.cpu().detach().numpy().flatten()\n",
    "\n",
    "plt.figure(dpi=150)\n",
    "plt.plot(y_val_torch*(OD_BART.max() - OD_BART.min()) + OD_BART.min(), '.-', linewidth=0.2, markersize=15, label='Truth')\n",
    "plt.plot(y_pred_torch*(OD_BART.max() - OD_BART.min()) + OD_BART.min(), '.-', linewidth=0.2, markersize=15, label='Prediction')\n",
    "plt.xlabel(\"Station ID\")\n",
    "plt.ylabel(\"Annual ridership for Each Station\")\n",
    "plt.legend()"
   ]
  },
  {
   "cell_type": "markdown",
   "id": "7cc0e729-74e0-421c-8f7d-17d88eb32d34",
   "metadata": {},
   "source": [
    "#### print the evaluation metrics"
   ]
  },
  {
   "cell_type": "code",
   "execution_count": 23,
   "id": "f6057af5-d84c-4ff2-b58f-ad56a936ba59",
   "metadata": {},
   "outputs": [
    {
     "name": "stdout",
     "output_type": "stream",
     "text": [
      "\n",
      "Final Evaluation Metrics:\n",
      "Final Train MAE: 0.179934\n",
      "Final Val MAE: 0.169746\n",
      "Final Train R²: 0.077791\n",
      "Final Val R²: -0.058282\n"
     ]
    }
   ],
   "source": [
    "final_train_mae = mean_absolute_error(y_train.cpu().detach().numpy(), model(X_train).cpu().detach().numpy())\n",
    "final_val_mae = mean_absolute_error(y_val.cpu().detach().numpy(), model(X_val).cpu().detach().numpy())\n",
    "\n",
    "final_train_r2 = r2_score(y_train.cpu().detach().numpy(), model(X_train).cpu().detach().numpy())\n",
    "final_val_r2 = r2_score(y_val.cpu().detach().numpy(), model(X_val).cpu().detach().numpy())\n",
    "\n",
    "print(\"\\nFinal Evaluation Metrics:\")\n",
    "print(\"Final Train MAE: %.6f\" % final_train_mae)\n",
    "print(\"Final Val MAE: %.6f\" % final_val_mae)\n",
    "print(\"Final Train R²: %.6f\" % final_train_r2)\n",
    "print(\"Final Val R²: %.6f\" % final_val_r2)"
   ]
  },
  {
   "cell_type": "markdown",
   "id": "d244b829",
   "metadata": {},
   "source": [
    "## Alignment between Layers\n",
    "ANN has a high requirement for the alignment of input and output between layers. The number of output neurons in the previous layer should be STRICTLY EQUAL to the number of input neurons in the next layer.\n",
    "\n",
    "For example, here we define an ANN model where `fc2` and `fc3` are not aligned"
   ]
  },
  {
   "cell_type": "code",
   "execution_count": 24,
   "id": "7e20c8e4",
   "metadata": {},
   "outputs": [],
   "source": [
    "class UnalignedANN(nn.Module):\n",
    "    def __init__(self):\n",
    "        super(UnalignedANN, self).__init__()\n",
    "        self.fc1 = nn.Linear(4, 8)\n",
    "        self.fc2 = nn.Linear(8, 16)\n",
    "        self.fc3 = nn.Linear(15, 32)  # Input should be 16 but we let it be 15 to show the error\n",
    "        self.fc4 = nn.Linear(32, 1)\n",
    "        self.relu = nn.ReLU()\n",
    "    \n",
    "    def forward(self, x):\n",
    "        x = self.fc1(x)\n",
    "        x = self.relu(x)\n",
    "        x = self.fc2(x)\n",
    "        x = self.relu(x)\n",
    "        x = self.fc3(x)\n",
    "        x = self.relu(x)\n",
    "        x = self.fc4(x)\n",
    "        return x\n",
    "\n",
    "unalignedANN = UnalignedANN()"
   ]
  },
  {
   "cell_type": "markdown",
   "id": "d42aad66",
   "metadata": {},
   "source": [
    "When we try to do the forward pass, misaligned layers will result in a RuntimeError about matrices that cannot be multiplied. You can try to modify the definition of fc3 to make it run normally. You can also remove the try-except part to see the specific Error type and location."
   ]
  },
  {
   "cell_type": "code",
   "execution_count": 33,
   "id": "fdf57f75",
   "metadata": {},
   "outputs": [
    {
     "name": "stdout",
     "output_type": "stream",
     "text": [
      "Find an Error!\n",
      "The error message is: mat1 and mat2 shapes cannot be multiplied (1x16 and 15x32)\n"
     ]
    }
   ],
   "source": [
    "try:\n",
    "    unalignedANN(torch.randn(1, 4))\n",
    "except Exception as e:\n",
    "    print(\"Find an Error!\")\n",
    "    print(f\"The error message is: {e}\")"
   ]
  }
 ],
 "metadata": {
  "kernelspec": {
   "display_name": "torch",
   "language": "python",
   "name": "python3"
  },
  "language_info": {
   "codemirror_mode": {
    "name": "ipython",
    "version": 3
   },
   "file_extension": ".py",
   "mimetype": "text/x-python",
   "name": "python",
   "nbconvert_exporter": "python",
   "pygments_lexer": "ipython3",
   "version": "3.9.18"
  }
 },
 "nbformat": 4,
 "nbformat_minor": 5
}
