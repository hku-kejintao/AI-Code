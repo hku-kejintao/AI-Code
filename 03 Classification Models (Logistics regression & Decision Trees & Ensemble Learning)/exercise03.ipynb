{
 "cells": [
  {
   "cell_type": "markdown",
   "metadata": {},
   "source": [
    "# Exercise 03 Classification Models\n",
    "\n",
    "In this exercise, you need to follow the requirements of each question to generate the Python code, and the following example is for reference：\n",
    "\n",
    "- Sample Question: Write a program that takes the user's name as input and prints \"Hello, [name]!\" where [name] is the user's input.\n",
    "\n",
    "- Potential Answer:\n",
    "\n",
    "```python\n",
    "    name = input(\"Enter your name: \")\n",
    "    print(\"Hello, \" + name + \"!\")\n",
    "```\n",
    "- If you enter 'David', the code will output 'Hello, David!', and this will satisfy the requirements.\n",
    "\n",
    "## Attention\n",
    "- Generally, there will be multiple answers for one question and you don't have to strictly follow the instructions in the tutorial, as long as you can make the output of the code meet the requirements of the question.\n",
    "- If possible, strive to make your code concise and avoid excessive reliance on less commonly used libraries.\n",
    "- You may need to search for information on the Internet to complete the excercise.\n",
    "- Please answer the questions in order."
   ]
  },
  {
   "cell_type": "markdown",
   "metadata": {},
   "source": [
    "## Question 01: The following code can generate a dataset and visualize them:\n",
    "\n",
    "```python\n",
    "    import numpy as np\n",
    "    import pandas as pd\n",
    "    import matplotlib.pyplot as plt\n",
    "\n",
    "    np.random.seed(0)\n",
    "    n_samples = 100\n",
    "    overlap = 0.5  \n",
    "\n",
    "    class_0_samples = int(n_samples * (1 - overlap))\n",
    "    class_0 = np.random.normal(loc=[0.3, 0.7], scale=[0.15, 0.15], size=(class_0_samples, 2))\n",
    "    labels_0 = np.zeros(class_0_samples)\n",
    "\n",
    "    class_1_samples = int(n_samples * overlap)\n",
    "    class_1 = np.random.normal(loc=[0.7, 0.3], scale=[0.15, 0.15], size=(class_1_samples, 2))\n",
    "    labels_1 = np.ones(class_1_samples)\n",
    "\n",
    "    data = np.vstack((class_0, class_1))\n",
    "    labels = np.hstack((labels_0, labels_1))\n",
    "\n",
    "    df = pd.DataFrame(data, columns=['Feature1', 'Feature2'])\n",
    "    df['Label'] = labels\n",
    "\n",
    "    plt.figure(figsize=(8, 6))\n",
    "    plt.scatter(df[df['Label']==0]['Feature1'], df[df['Label']==0]['Feature2'], marker='*', label='Label 0')\n",
    "    plt.scatter(df[df['Label']==1]['Feature1'], df[df['Label']==1]['Feature2'], marker='*', label='Label 1')\n",
    "    plt.title('Visualization of Data with Two Features')\n",
    "    plt.xlabel('Feature 1')\n",
    "    plt.ylabel('Feature 2')\n",
    "    plt.legend()\n",
    "    plt.show()   \n",
    "```\n",
    "\n",
    "### Requirements\n",
    "\n",
    "- First, copy all the code above in the following code frame to generate the data and visualize them.\n",
    "- Divide the original dataset into train dataset (0.8) and test dataset (0.2), you can use sklearn to do this or write the code yourself.\n",
    "- Use logistic regression to fit the dataset and value your model with accuracy_score and plot the ROC curve.\n",
    "- Prepare a `dict` to record the prediction accuracy of different models.\n",
    "\n",
    "### Write your answer in the following code frame"
   ]
  },
  {
   "cell_type": "code",
   "execution_count": null,
   "metadata": {},
   "outputs": [],
   "source": []
  },
  {
   "cell_type": "code",
   "execution_count": null,
   "metadata": {},
   "outputs": [],
   "source": []
  },
  {
   "cell_type": "code",
   "execution_count": null,
   "metadata": {},
   "outputs": [],
   "source": []
  },
  {
   "cell_type": "markdown",
   "metadata": {},
   "source": [
    "## Question 02: \n",
    "\n",
    "As for the dataset generated (the same train data and test data) in question 01, change the classification model from linear regression to decision tree, then plot the tree, and evaluate the decision tree model with accuracy and ROC cureve. Record the prediction accuracy on the test set.\n",
    "\n",
    "## Write your answer in the following code frame"
   ]
  },
  {
   "cell_type": "code",
   "execution_count": null,
   "metadata": {},
   "outputs": [],
   "source": []
  },
  {
   "cell_type": "code",
   "execution_count": null,
   "metadata": {},
   "outputs": [],
   "source": []
  },
  {
   "cell_type": "code",
   "execution_count": null,
   "metadata": {},
   "outputs": [],
   "source": []
  },
  {
   "cell_type": "markdown",
   "metadata": {},
   "source": [
    "Based on the prediction result on test set you get before, try to calculate precision, recall and f1-score of each class. \n",
    "\n",
    "Compare the prediction accuracy of different models in a pandas DataFrame.\n",
    "\n",
    "### Write your answer in the following code frame"
   ]
  },
  {
   "cell_type": "code",
   "execution_count": null,
   "metadata": {},
   "outputs": [],
   "source": []
  },
  {
   "cell_type": "code",
   "execution_count": null,
   "metadata": {},
   "outputs": [],
   "source": []
  },
  {
   "cell_type": "markdown",
   "metadata": {},
   "source": [
    "## Question 03: The following code can generate a dataset and visualize them:\n",
    "\n",
    "```python\n",
    "    import numpy as np\n",
    "    import matplotlib.pyplot as plt\n",
    "    from sklearn.datasets import make_classification\n",
    "    from sklearn.model_selection import train_test_split\n",
    "\n",
    "    X, y = make_classification(n_samples=50, n_features=2, n_informative=2, n_redundant=0,\n",
    "                            n_clusters_per_class=1, random_state=42, class_sep=2.0)\n",
    "\n",
    "    data = pd.DataFrame(data=X, columns=['Feature 1', 'Feature 2'])\n",
    "    data['Target'] = y\n",
    "\n",
    "    plt.scatter(data['Feature 1'], data['Feature 2'], c=data['Target'], cmap=plt.cm.Paired)\n",
    "    plt.xlabel('Feature 1')\n",
    "    plt.ylabel('Feature 2')\n",
    "    plt.title('Linearly Separable SVM Classification Dataset')\n",
    "    plt.show()\n",
    "```\n",
    "\n",
    "### Requirements\n",
    "\n",
    "- First, copy all the code above in the following code frame to generate the data and visualize them.\n",
    "- Divide the original dataset into train dataset (0.8) and test dataset (0.2), you can use sklearn to do this or write the code yourself.\n",
    "- Use Support Vector Machine (SVM) model to fit the dataset and value your model with accuracy_score and plot the ROC curve.\n",
    "- Plot the hyperplane of your SVM model (refer to the code in the tutorial).\n",
    "\n",
    "## Write your answer in the following code frame:"
   ]
  },
  {
   "cell_type": "code",
   "execution_count": null,
   "metadata": {},
   "outputs": [],
   "source": []
  },
  {
   "cell_type": "code",
   "execution_count": null,
   "metadata": {},
   "outputs": [],
   "source": []
  },
  {
   "cell_type": "code",
   "execution_count": null,
   "metadata": {},
   "outputs": [],
   "source": []
  },
  {
   "cell_type": "markdown",
   "metadata": {},
   "source": [
    "## Question 04: As for the dataset generated (the same train data and test data) in question 03, change the classification model from SVM to AdaBoost, then evaluate the AdaBoost model with accuracy and ROC cureve."
   ]
  },
  {
   "cell_type": "code",
   "execution_count": null,
   "metadata": {},
   "outputs": [],
   "source": []
  }
 ],
 "metadata": {
  "kernelspec": {
   "display_name": "torch",
   "language": "python",
   "name": "python3"
  },
  "language_info": {
   "codemirror_mode": {
    "name": "ipython",
    "version": 3
   },
   "file_extension": ".py",
   "mimetype": "text/x-python",
   "name": "python",
   "nbconvert_exporter": "python",
   "pygments_lexer": "ipython3",
   "version": "3.9.18"
  }
 },
 "nbformat": 4,
 "nbformat_minor": 2
}
