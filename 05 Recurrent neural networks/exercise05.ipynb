{
 "cells": [
  {
   "cell_type": "markdown",
   "metadata": {},
   "source": [
    "# Exercise 05 Recurrent Neural Networks\n",
    "\n",
    "In this exercise, you need to follow the requirements of each question to generate the Python code, and the following example is for reference：\n",
    "\n",
    "- Sample Question: Write a program that takes the user's name as input and prints \"Hello, [name]!\" where [name] is the user's input.\n",
    "\n",
    "- Potential Answer:\n",
    "\n",
    "```python\n",
    "    name = input(\"Enter your name: \")\n",
    "    print(\"Hello, \" + name + \"!\")\n",
    "```\n",
    "- If you enter 'David', the code will output 'Hello, David!', and this will satisfy the requirements.\n",
    "\n",
    "## Attention\n",
    "- Generally, there will be multiple answers for one question and you don't have to strictly follow the instructions in the tutorial, as long as you can make the output of the code meet the requirements of the question.\n",
    "- If possible, strive to make your code concise and avoid excessive reliance on less commonly used libraries.\n",
    "- You may need to search for information on the Internet to complete the excercise.\n",
    "- Please answer the questions in order."
   ]
  },
  {
   "cell_type": "code",
   "execution_count": null,
   "metadata": {},
   "outputs": [],
   "source": [
    "import numpy as np\n",
    "import pandas as pd\n",
    "import matplotlib.pyplot as plt\n",
    "import torch\n",
    "from torch import nn\n",
    "import torch.optim as optim\n",
    "from torch.utils.data import DataLoader, TensorDataset\n",
    "from sklearn.preprocessing import MinMaxScaler\n",
    "\n",
    "device = (\n",
    "    \"cuda\" if torch.cuda.is_available()\n",
    "    else \"mps\" if torch.backends.mps.is_available()\n",
    "    else \"cpu\"\n",
    ")\n",
    "print(f\"Using {device} device\")"
   ]
  },
  {
   "cell_type": "markdown",
   "metadata": {},
   "source": [
    "## Question 01 (Data Preparation):\n",
    "\n",
    "The following code are extracted from the tutorial, helping you prepare the data. Copy the following code to run them first and continue finishing the question. To speed up the demonstration, we only use the **first 200 days of data**. You can try it yourself with more data.\n",
    "\n",
    "\n",
    "```python\n",
    "    df = pd.read_csv(\"./traffic.csv\")\n",
    "    timeseries = df[\"1\"].values.reshape(-1, 1).astype(np.float32)\n",
    "    timeseries = timeseries[:24*200]\n",
    "```\n",
    "\n",
    "### Requirements\n",
    "\n",
    "- Visualize the entire time series \n",
    "- Split the training set and the test set by a ratio of 0.8:0.2.\n",
    "- Using the `create_dataset` function in the tutorial and set the parameter look_back as 240.\n",
    "- Generate the train data and test data with the proper shape.\n",
    "\n",
    "### Write your answer in the following code frame:"
   ]
  },
  {
   "cell_type": "code",
   "execution_count": null,
   "metadata": {},
   "outputs": [],
   "source": [
    "df = pd.read_csv(\"./traffic.csv\")\n",
    "timeseries = df[\"1\"].values.reshape(-1, 1).astype(np.float32)\n",
    "timeseries = timeseries[:24*200]\n",
    "\n",
    "# time series visualization\n",
    "\n",
    "\n",
    "# dataset split\n",
    "\n",
    "\n",
    "# a function to generate a dataset of fixed window from a time series. \n",
    "def create_dataset(dataset, lookback):\n",
    "    \"\"\"Transform a time series into a prediction dataset\n",
    "    \n",
    "    Args:\n",
    "        dataset: A numpy array of time series, first dimension is the time steps\n",
    "        lookback: Size of window for prediction\n",
    "    \"\"\"\n",
    "    X, y = [], []\n",
    "    for i in range(len(dataset)-lookback-2):\n",
    "        feature = dataset[i:i+lookback]\n",
    "        target = dataset[i+1:i+lookback+1]\n",
    "        X.append(feature)\n",
    "        y.append(target)\n",
    "    X = np.array(X)\n",
    "    y = np.array(y)\n",
    "    return torch.tensor(X), torch.tensor(y)\n",
    "\n",
    "# generate features and labels for the training and testing datasets\n",
    "\n"
   ]
  },
  {
   "cell_type": "markdown",
   "metadata": {},
   "source": [
    "## Question 02 (Model Defination)\n",
    "\n",
    "### Requirements\n",
    "\n",
    "Define a model using `class` with following structures: \n",
    "- Stack two LSTM layers with 50 features in the hidden state.\n",
    "- Introduce a Batchnorm layer before the full connection layer.\n",
    "- Use no activation function after the linear layer, and directly use the output of the linear layer as the prediction of the model.\n",
    "\n",
    "### Write your answer in the following code frame:"
   ]
  },
  {
   "cell_type": "code",
   "execution_count": 3,
   "metadata": {},
   "outputs": [],
   "source": [
    "class LstmModel(nn.Module):\n",
    "    def __init__(self):\n",
    "        \n",
    "\n",
    "    def forward(self, x):\n",
    "        "
   ]
  },
  {
   "cell_type": "markdown",
   "metadata": {},
   "source": [
    "## Question 03 (Initialization):\n",
    "\n",
    "### Requirements\n",
    "\n",
    "- Instantiate a model just defined.\n",
    "- Initialize model weights\n",
    "    - For LSTM layers, init weights with `orthogonal_` and biases with zero values\n",
    "    - For full connection layers, init weights with `kaiming_normal_` and biases with zero values\n",
    "\n",
    "### Write your answer in the following code frame:"
   ]
  },
  {
   "cell_type": "code",
   "execution_count": null,
   "metadata": {},
   "outputs": [],
   "source": [
    "model = LstmModel()\n",
    "\n",
    "for m in model.modules():\n",
    "    # write the code for initializing the weights of the model here\n",
    "\n",
    "model.to(device)"
   ]
  },
  {
   "cell_type": "markdown",
   "metadata": {},
   "source": [
    "## Question 04 (Loss and Optimize):\n",
    "\n",
    "### Requirements\n",
    "- Prepare a suitable loss function for the upcoming training and testing process. \n",
    "- Prepare an Adam optimizer for the model and set the learning rate you think is appropriate.\n",
    "\n",
    "### Write your answer in the following code frame:"
   ]
  },
  {
   "cell_type": "code",
   "execution_count": 5,
   "metadata": {},
   "outputs": [],
   "source": [
    "loss_fn = \n",
    "optimizer = "
   ]
  },
  {
   "cell_type": "markdown",
   "metadata": {},
   "source": [
    "## Question 05 (Training and Testing):\n",
    "\n",
    "### Requirements\n",
    "- Set an appropriate number of training epochs and train the model using the data, model, loss function, and optimizer you prepared.\n",
    "- After each epoch, calculate the loss function value on the entire training set and test set and output it.\n",
    "\n",
    "### Write your answer in the following code frame:"
   ]
  },
  {
   "cell_type": "code",
   "execution_count": null,
   "metadata": {},
   "outputs": [],
   "source": [
    "n_epochs = \n",
    "for epoch in range(n_epochs):\n",
    "    # Training\n",
    "    \n",
    "    \n",
    "    # Validation\n",
    "    \n",
    "    \n",
    "    # Print the training and validation loss every epoch\n"
   ]
  },
  {
   "cell_type": "markdown",
   "metadata": {},
   "source": [
    "## Question 06 (Results Visualization):\n",
    "### Requirements\n",
    "- Compute the prediction results on the entire training set and test set.\n",
    "- Based on the code from the tutorial, plot the ground truth and predicted sequences at [240, 480] time (training set) and [4100, 4340] time (test set).\n",
    "- Plot the ground truth and prediction results for the entire time series.\n",
    "\n",
    "### Write your answer in the following code frame:"
   ]
  },
  {
   "cell_type": "code",
   "execution_count": null,
   "metadata": {},
   "outputs": [],
   "source": [
    "# Compute the prediction of the model on the training and testing datasets\n",
    "\n",
    "\n",
    "# Visualization of the prediction\n"
   ]
  }
 ],
 "metadata": {
  "kernelspec": {
   "display_name": "torch",
   "language": "python",
   "name": "python3"
  },
  "language_info": {
   "codemirror_mode": {
    "name": "ipython",
    "version": 3
   },
   "file_extension": ".py",
   "mimetype": "text/x-python",
   "name": "python",
   "nbconvert_exporter": "python",
   "pygments_lexer": "ipython3",
   "version": "3.9.18"
  }
 },
 "nbformat": 4,
 "nbformat_minor": 4
}
