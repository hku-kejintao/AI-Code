{
 "cells": [
  {
   "cell_type": "markdown",
   "metadata": {},
   "source": [
    "# Exercise 08 Unsupervised Learning\n",
    "\n",
    "In this exercise, you need to follow the requirements of each question to generate the Python code, and the following example is for reference：\n",
    "\n",
    "- Sample Question: Write a program that takes the user's name as input and prints \"Hello, [name]!\" where [name] is the user's input.\n",
    "\n",
    "- Potential Answer:\n",
    "\n",
    "```python\n",
    "    name = input(\"Enter your name: \")\n",
    "    print(\"Hello, \" + name + \"!\")\n",
    "```\n",
    "- If you enter 'David', the code will output 'Hello, David!', and this will satisfy the requirements.\n",
    "\n",
    "## Attention\n",
    "- Generally, there will be multiple answers for one question and you don't have to strictly follow the instructions in the tutorial, as long as you can make the output of the code meet the requirements of the question.\n",
    "- If possible, strive to make your code concise and avoid excessive reliance on less commonly used libraries.\n",
    "- You may need to search for information on the Internet to complete the excercise."
   ]
  },
  {
   "cell_type": "markdown",
   "metadata": {},
   "source": [
    "### Question 01: Read the `data_X.csv` file and keep the first 48 stations, then apply KMeans method to perform the clustering and visualize them.\n",
    "\n",
    "### Write your answer in the following code frame:"
   ]
  },
  {
   "cell_type": "code",
   "execution_count": null,
   "metadata": {},
   "outputs": [],
   "source": []
  },
  {
   "cell_type": "markdown",
   "metadata": {},
   "source": [
    "### Question 02: Select different numbers of cluster centers for kmeans clustering, calculate inertia and draw a curve of inertia changing with the number of cluster centers. Select the number of clusters you think is most appropriate.\n",
    "\n",
    "### Write your answer in the following code frame:"
   ]
  },
  {
   "cell_type": "code",
   "execution_count": null,
   "metadata": {},
   "outputs": [],
   "source": []
  },
  {
   "cell_type": "markdown",
   "metadata": {},
   "source": [
    "### Question 03: Use the `data_BART_sld` in the question 01 and keep the two features `TotPop` and `AutoOwn0` to complete the PCA transformation. Please apply the `fit_transform` function to data X, then you will get the data after transformation. Subsequently, Plot the data before transformation and the data after transformation. \n",
    "\n",
    "### Write your answer in the following code frame:"
   ]
  },
  {
   "cell_type": "code",
   "execution_count": null,
   "metadata": {},
   "outputs": [],
   "source": []
  },
  {
   "cell_type": "markdown",
   "metadata": {},
   "source": [
    "### Question 04: Read the `Traffic_Flow_Data.csv` file and Fit the flow data using a Gaussian Mixture Model (GMM). Print the mean values and cocovariances of the GMM model.\n",
    "\n",
    "### Write your answer in the following code frame:"
   ]
  },
  {
   "cell_type": "code",
   "execution_count": null,
   "metadata": {},
   "outputs": [],
   "source": []
  },
  {
   "cell_type": "markdown",
   "metadata": {},
   "source": [
    "### Question 05 (optional): In the question 03, we set the number of Gaussian distribution components to 3. Now, we will attempt 1 to 6 Gaussian distribution components to determine the most suitable number.\n",
    "\n",
    "#### Write a loop that iterates over the range from 1 to 6, and for each component count, perform the following steps:\n",
    "\n",
    "1. Initialize a GaussianMixture model using the current number of components.\n",
    "2. Fit the model to the flow data using the fit method.\n",
    "3. Calculate the AIC and BIC values for the current model (use the `gm.aic` and `gm.bic`).\n",
    "4. Print the component count along with its corresponding AIC and BIC values.\n",
    "\n",
    "#### The following content is intended for introduction and understanding. You don't need to program according to the following formulas; you just need to use the `gm.aic` and `gm.bic` provided in the `GaussianMixture`.\n",
    "- AIC (Akaike Information Criterion) and BIC (Bayesian Information Criterion) are both statistical measures used for model selection to assess the quality of different models. They aim to compare different models given a dataset and help us choose the most suitable model for explaining the data. Smaller BIC and AIC values account for better model.\n",
    "\n",
    "$$AIC（Akaike\\quad Information\\quad Criterion）=  2k - 2ln(L)$$\n",
    "\n",
    "$$BIC（Bayesian\\quad Information\\quad Criterion）=  k * ln(n) - 2ln(L) $$\n",
    "\n",
    "  where:\n",
    "- $k$ is the number of model parameters (degrees of freedom).\n",
    "- $n$ is the sample size.\n",
    "- $ln(L)$ is the logarithm of the maximum likelihood estimate.\n",
    "\n",
    "### Write your answer in the following code frame:"
   ]
  },
  {
   "cell_type": "code",
   "execution_count": null,
   "metadata": {},
   "outputs": [],
   "source": []
  }
 ],
 "metadata": {
  "kernelspec": {
   "display_name": "torch",
   "language": "python",
   "name": "python3"
  },
  "language_info": {
   "codemirror_mode": {
    "name": "ipython",
    "version": 3
   },
   "file_extension": ".py",
   "mimetype": "text/x-python",
   "name": "python",
   "nbconvert_exporter": "python",
   "pygments_lexer": "ipython3",
   "version": "3.9.18"
  }
 },
 "nbformat": 4,
 "nbformat_minor": 2
}
